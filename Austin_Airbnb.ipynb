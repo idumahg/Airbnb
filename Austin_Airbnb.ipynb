{
 "cells": [
  {
   "cell_type": "markdown",
   "id": "725718e2",
   "metadata": {},
   "source": [
    "# Project: What does the data say about AirBnB in Austin.\n",
    "\n",
    "In this project, I used the CRISP-DM Process to analyse Austin Airbnb data from September 18, 2019 to October 8, 2020. The data is sources from the following website https://www.kaggle.com/datasets/clnguyen/austinairbnbs20191112 \n",
    "The questions I want to explore using this dataset are the following:\n",
    "\n",
    "1. Is there any seasonal variability in prices and room availability?\n",
    "2. What are the busiest time of the year to visit Austin?\n",
    "3. Are there properties of the listing associated with high price?\n",
    "4. Can we predict accomodation price using listing features.\n",
    "\n",
    "I answer these questions, by understanding and preparing the data, model the data, and deploy the result to Medium."
   ]
  },
  {
   "cell_type": "code",
   "execution_count": 210,
   "id": "a791d342",
   "metadata": {},
   "outputs": [],
   "source": [
    "import numpy as np\n",
    "import pandas as pd\n",
    "import matplotlib.pyplot as plt\n",
    "import seaborn as sns\n",
    "from sklearn.linear_model import LinearRegression\n",
    "from sklearn.preprocessing import StandardScaler, PolynomialFeatures\n",
    "from sklearn.model_selection import train_test_split\n",
    "from sklearn.metrics import r2_score, mean_squared_error\n",
    "from sklearn.ensemble import RandomForestRegressor\n",
    "%matplotlib inline"
   ]
  },
  {
   "cell_type": "markdown",
   "id": "117e083d",
   "metadata": {},
   "source": [
    "## Step 0: Load the Data\n",
    "There are three files that we will be using for this project:\n",
    "\n",
    "* `listings_full.csv`: this contains data about all unique listings in Austin for the time period. It is of size 11339 listings (rows) $\\times$ 106 features (columns).\n",
    "\n",
    "* `calendar.csv`: this contains the calendar for listings listed for each day within the time period. It is of size 4138735 calendar listings (rows) $\\times$ 7 features (columns).\n",
    "\n",
    "* `reviews_full.csv`: this contains the written review of people who stayed in one of the listings for the time period. It is of size 328902 number of reviews (rows) $\\times$ 6 features (columns). The analysis of `reviews_full.csv` will require a good knowledge of text-mining. I am not yet proficient in that, therefore I woulld not be using this data in this project."
   ]
  },
  {
   "cell_type": "code",
   "execution_count": 3,
   "id": "c1d69dfe",
   "metadata": {},
   "outputs": [
    {
     "name": "stderr",
     "output_type": "stream",
     "text": [
      "/Users/gideonidumah/opt/anaconda3/lib/python3.7/site-packages/IPython/core/interactiveshell.py:3444: DtypeWarning: Columns (43,61,62) have mixed types.Specify dtype option on import or set low_memory=False.\n",
      "  exec(code_obj, self.user_global_ns, self.user_ns)\n"
     ]
    }
   ],
   "source": [
    "# Here we load each of our dataset.\n",
    "df_listing = pd.read_csv('./listings_full.csv')\n",
    "df_calendar = pd.read_csv('./calendar.csv')\n",
    "df_reviews = pd.read_csv('./reviews_full.csv')"
   ]
  },
  {
   "cell_type": "code",
   "execution_count": 4,
   "id": "fff5fc86",
   "metadata": {},
   "outputs": [
    {
     "data": {
      "text/html": [
       "<div>\n",
       "<style scoped>\n",
       "    .dataframe tbody tr th:only-of-type {\n",
       "        vertical-align: middle;\n",
       "    }\n",
       "\n",
       "    .dataframe tbody tr th {\n",
       "        vertical-align: top;\n",
       "    }\n",
       "\n",
       "    .dataframe thead th {\n",
       "        text-align: right;\n",
       "    }\n",
       "</style>\n",
       "<table border=\"1\" class=\"dataframe\">\n",
       "  <thead>\n",
       "    <tr style=\"text-align: right;\">\n",
       "      <th></th>\n",
       "      <th>id</th>\n",
       "      <th>listing_url</th>\n",
       "      <th>scrape_id</th>\n",
       "      <th>last_scraped</th>\n",
       "      <th>name</th>\n",
       "      <th>summary</th>\n",
       "      <th>space</th>\n",
       "      <th>description</th>\n",
       "      <th>experiences_offered</th>\n",
       "      <th>neighborhood_overview</th>\n",
       "      <th>...</th>\n",
       "      <th>instant_bookable</th>\n",
       "      <th>is_business_travel_ready</th>\n",
       "      <th>cancellation_policy</th>\n",
       "      <th>require_guest_profile_picture</th>\n",
       "      <th>require_guest_phone_verification</th>\n",
       "      <th>calculated_host_listings_count</th>\n",
       "      <th>calculated_host_listings_count_entire_homes</th>\n",
       "      <th>calculated_host_listings_count_private_rooms</th>\n",
       "      <th>calculated_host_listings_count_shared_rooms</th>\n",
       "      <th>reviews_per_month</th>\n",
       "    </tr>\n",
       "  </thead>\n",
       "  <tbody>\n",
       "    <tr>\n",
       "      <th>0</th>\n",
       "      <td>2265</td>\n",
       "      <td>https://www.airbnb.com/rooms/2265</td>\n",
       "      <td>20190919050302</td>\n",
       "      <td>2019-09-19</td>\n",
       "      <td>Zen-East in the Heart of Austin (monthly rental)</td>\n",
       "      <td>Zen East is situated in a vibrant &amp; diverse mu...</td>\n",
       "      <td>This colorful and clean 1923 house was complet...</td>\n",
       "      <td>Zen East is situated in a vibrant &amp; diverse mu...</td>\n",
       "      <td>none</td>\n",
       "      <td>NaN</td>\n",
       "      <td>...</td>\n",
       "      <td>f</td>\n",
       "      <td>f</td>\n",
       "      <td>strict_14_with_grace_period</td>\n",
       "      <td>f</td>\n",
       "      <td>f</td>\n",
       "      <td>3</td>\n",
       "      <td>2</td>\n",
       "      <td>1</td>\n",
       "      <td>0</td>\n",
       "      <td>0.19</td>\n",
       "    </tr>\n",
       "    <tr>\n",
       "      <th>1</th>\n",
       "      <td>5245</td>\n",
       "      <td>https://www.airbnb.com/rooms/5245</td>\n",
       "      <td>20190919050302</td>\n",
       "      <td>2019-09-19</td>\n",
       "      <td>Eco friendly, Colorful, Clean, Cozy monthly share</td>\n",
       "      <td>Situated in a vibrant &amp; diverse multicultural ...</td>\n",
       "      <td>This green, colorful, clean and cozy house was...</td>\n",
       "      <td>Situated in a vibrant &amp; diverse multicultural ...</td>\n",
       "      <td>none</td>\n",
       "      <td>NaN</td>\n",
       "      <td>...</td>\n",
       "      <td>f</td>\n",
       "      <td>f</td>\n",
       "      <td>strict_14_with_grace_period</td>\n",
       "      <td>f</td>\n",
       "      <td>f</td>\n",
       "      <td>3</td>\n",
       "      <td>2</td>\n",
       "      <td>1</td>\n",
       "      <td>0</td>\n",
       "      <td>0.07</td>\n",
       "    </tr>\n",
       "    <tr>\n",
       "      <th>2</th>\n",
       "      <td>5456</td>\n",
       "      <td>https://www.airbnb.com/rooms/5456</td>\n",
       "      <td>20190919050302</td>\n",
       "      <td>2019-09-19</td>\n",
       "      <td>Walk to 6th, Rainey St and Convention Ctr</td>\n",
       "      <td>Fabulous location for walking to Convention Ce...</td>\n",
       "      <td>Cute Private Studio apartment located in Willo...</td>\n",
       "      <td>Fabulous location for walking to Convention Ce...</td>\n",
       "      <td>none</td>\n",
       "      <td>My neighborhood is ideally located if you want...</td>\n",
       "      <td>...</td>\n",
       "      <td>f</td>\n",
       "      <td>f</td>\n",
       "      <td>strict_14_with_grace_period</td>\n",
       "      <td>f</td>\n",
       "      <td>t</td>\n",
       "      <td>1</td>\n",
       "      <td>1</td>\n",
       "      <td>0</td>\n",
       "      <td>0</td>\n",
       "      <td>3.89</td>\n",
       "    </tr>\n",
       "    <tr>\n",
       "      <th>3</th>\n",
       "      <td>5769</td>\n",
       "      <td>https://www.airbnb.com/rooms/5769</td>\n",
       "      <td>20190919050302</td>\n",
       "      <td>2019-09-19</td>\n",
       "      <td>NW Austin Room</td>\n",
       "      <td>NaN</td>\n",
       "      <td>Looking for a comfortable inexpensive room to ...</td>\n",
       "      <td>Looking for a comfortable inexpensive room to ...</td>\n",
       "      <td>none</td>\n",
       "      <td>Quiet neighborhood with lots of trees and good...</td>\n",
       "      <td>...</td>\n",
       "      <td>f</td>\n",
       "      <td>f</td>\n",
       "      <td>moderate</td>\n",
       "      <td>t</td>\n",
       "      <td>t</td>\n",
       "      <td>1</td>\n",
       "      <td>0</td>\n",
       "      <td>1</td>\n",
       "      <td>0</td>\n",
       "      <td>2.20</td>\n",
       "    </tr>\n",
       "    <tr>\n",
       "      <th>4</th>\n",
       "      <td>6413</td>\n",
       "      <td>https://www.airbnb.com/rooms/6413</td>\n",
       "      <td>20190919050302</td>\n",
       "      <td>2019-09-19</td>\n",
       "      <td>Gem of a Studio near Downtown</td>\n",
       "      <td>Great studio apartment, perfect for couples or...</td>\n",
       "      <td>(License #114332) Large, contemporary studio a...</td>\n",
       "      <td>Great studio apartment, perfect for couples or...</td>\n",
       "      <td>none</td>\n",
       "      <td>Travis Heights is one of the oldest neighborho...</td>\n",
       "      <td>...</td>\n",
       "      <td>t</td>\n",
       "      <td>f</td>\n",
       "      <td>strict_14_with_grace_period</td>\n",
       "      <td>f</td>\n",
       "      <td>f</td>\n",
       "      <td>1</td>\n",
       "      <td>1</td>\n",
       "      <td>0</td>\n",
       "      <td>0</td>\n",
       "      <td>0.84</td>\n",
       "    </tr>\n",
       "  </tbody>\n",
       "</table>\n",
       "<p>5 rows × 106 columns</p>\n",
       "</div>"
      ],
      "text/plain": [
       "     id                        listing_url       scrape_id last_scraped  \\\n",
       "0  2265  https://www.airbnb.com/rooms/2265  20190919050302   2019-09-19   \n",
       "1  5245  https://www.airbnb.com/rooms/5245  20190919050302   2019-09-19   \n",
       "2  5456  https://www.airbnb.com/rooms/5456  20190919050302   2019-09-19   \n",
       "3  5769  https://www.airbnb.com/rooms/5769  20190919050302   2019-09-19   \n",
       "4  6413  https://www.airbnb.com/rooms/6413  20190919050302   2019-09-19   \n",
       "\n",
       "                                                name  \\\n",
       "0   Zen-East in the Heart of Austin (monthly rental)   \n",
       "1  Eco friendly, Colorful, Clean, Cozy monthly share   \n",
       "2          Walk to 6th, Rainey St and Convention Ctr   \n",
       "3                                     NW Austin Room   \n",
       "4                      Gem of a Studio near Downtown   \n",
       "\n",
       "                                             summary  \\\n",
       "0  Zen East is situated in a vibrant & diverse mu...   \n",
       "1  Situated in a vibrant & diverse multicultural ...   \n",
       "2  Fabulous location for walking to Convention Ce...   \n",
       "3                                                NaN   \n",
       "4  Great studio apartment, perfect for couples or...   \n",
       "\n",
       "                                               space  \\\n",
       "0  This colorful and clean 1923 house was complet...   \n",
       "1  This green, colorful, clean and cozy house was...   \n",
       "2  Cute Private Studio apartment located in Willo...   \n",
       "3  Looking for a comfortable inexpensive room to ...   \n",
       "4  (License #114332) Large, contemporary studio a...   \n",
       "\n",
       "                                         description experiences_offered  \\\n",
       "0  Zen East is situated in a vibrant & diverse mu...                none   \n",
       "1  Situated in a vibrant & diverse multicultural ...                none   \n",
       "2  Fabulous location for walking to Convention Ce...                none   \n",
       "3  Looking for a comfortable inexpensive room to ...                none   \n",
       "4  Great studio apartment, perfect for couples or...                none   \n",
       "\n",
       "                               neighborhood_overview  ... instant_bookable  \\\n",
       "0                                                NaN  ...                f   \n",
       "1                                                NaN  ...                f   \n",
       "2  My neighborhood is ideally located if you want...  ...                f   \n",
       "3  Quiet neighborhood with lots of trees and good...  ...                f   \n",
       "4  Travis Heights is one of the oldest neighborho...  ...                t   \n",
       "\n",
       "  is_business_travel_ready          cancellation_policy  \\\n",
       "0                        f  strict_14_with_grace_period   \n",
       "1                        f  strict_14_with_grace_period   \n",
       "2                        f  strict_14_with_grace_period   \n",
       "3                        f                     moderate   \n",
       "4                        f  strict_14_with_grace_period   \n",
       "\n",
       "  require_guest_profile_picture require_guest_phone_verification  \\\n",
       "0                             f                                f   \n",
       "1                             f                                f   \n",
       "2                             f                                t   \n",
       "3                             t                                t   \n",
       "4                             f                                f   \n",
       "\n",
       "   calculated_host_listings_count  \\\n",
       "0                               3   \n",
       "1                               3   \n",
       "2                               1   \n",
       "3                               1   \n",
       "4                               1   \n",
       "\n",
       "   calculated_host_listings_count_entire_homes  \\\n",
       "0                                            2   \n",
       "1                                            2   \n",
       "2                                            1   \n",
       "3                                            0   \n",
       "4                                            1   \n",
       "\n",
       "  calculated_host_listings_count_private_rooms  \\\n",
       "0                                            1   \n",
       "1                                            1   \n",
       "2                                            0   \n",
       "3                                            1   \n",
       "4                                            0   \n",
       "\n",
       "   calculated_host_listings_count_shared_rooms  reviews_per_month  \n",
       "0                                            0               0.19  \n",
       "1                                            0               0.07  \n",
       "2                                            0               3.89  \n",
       "3                                            0               2.20  \n",
       "4                                            0               0.84  \n",
       "\n",
       "[5 rows x 106 columns]"
      ]
     },
     "execution_count": 4,
     "metadata": {},
     "output_type": "execute_result"
    }
   ],
   "source": [
    "df_listing.head()"
   ]
  },
  {
   "cell_type": "code",
   "execution_count": 5,
   "id": "c37ed406",
   "metadata": {},
   "outputs": [
    {
     "data": {
      "text/html": [
       "<div>\n",
       "<style scoped>\n",
       "    .dataframe tbody tr th:only-of-type {\n",
       "        vertical-align: middle;\n",
       "    }\n",
       "\n",
       "    .dataframe tbody tr th {\n",
       "        vertical-align: top;\n",
       "    }\n",
       "\n",
       "    .dataframe thead th {\n",
       "        text-align: right;\n",
       "    }\n",
       "</style>\n",
       "<table border=\"1\" class=\"dataframe\">\n",
       "  <thead>\n",
       "    <tr style=\"text-align: right;\">\n",
       "      <th></th>\n",
       "      <th>listing_id</th>\n",
       "      <th>date</th>\n",
       "      <th>available</th>\n",
       "      <th>price</th>\n",
       "      <th>adjusted_price</th>\n",
       "      <th>minimum_nights</th>\n",
       "      <th>maximum_nights</th>\n",
       "    </tr>\n",
       "  </thead>\n",
       "  <tbody>\n",
       "    <tr>\n",
       "      <th>0</th>\n",
       "      <td>320435</td>\n",
       "      <td>2019-09-19</td>\n",
       "      <td>t</td>\n",
       "      <td>$625.00</td>\n",
       "      <td>$625.00</td>\n",
       "      <td>4</td>\n",
       "      <td>7</td>\n",
       "    </tr>\n",
       "    <tr>\n",
       "      <th>1</th>\n",
       "      <td>320161</td>\n",
       "      <td>2019-09-19</td>\n",
       "      <td>f</td>\n",
       "      <td>$45.00</td>\n",
       "      <td>$45.00</td>\n",
       "      <td>30</td>\n",
       "      <td>365</td>\n",
       "    </tr>\n",
       "    <tr>\n",
       "      <th>2</th>\n",
       "      <td>320161</td>\n",
       "      <td>2019-09-20</td>\n",
       "      <td>f</td>\n",
       "      <td>$45.00</td>\n",
       "      <td>$45.00</td>\n",
       "      <td>30</td>\n",
       "      <td>365</td>\n",
       "    </tr>\n",
       "    <tr>\n",
       "      <th>3</th>\n",
       "      <td>320161</td>\n",
       "      <td>2019-09-21</td>\n",
       "      <td>f</td>\n",
       "      <td>$45.00</td>\n",
       "      <td>$45.00</td>\n",
       "      <td>30</td>\n",
       "      <td>365</td>\n",
       "    </tr>\n",
       "    <tr>\n",
       "      <th>4</th>\n",
       "      <td>320161</td>\n",
       "      <td>2019-09-22</td>\n",
       "      <td>f</td>\n",
       "      <td>$45.00</td>\n",
       "      <td>$45.00</td>\n",
       "      <td>30</td>\n",
       "      <td>365</td>\n",
       "    </tr>\n",
       "  </tbody>\n",
       "</table>\n",
       "</div>"
      ],
      "text/plain": [
       "   listing_id        date available    price adjusted_price  minimum_nights  \\\n",
       "0      320435  2019-09-19         t  $625.00        $625.00               4   \n",
       "1      320161  2019-09-19         f   $45.00         $45.00              30   \n",
       "2      320161  2019-09-20         f   $45.00         $45.00              30   \n",
       "3      320161  2019-09-21         f   $45.00         $45.00              30   \n",
       "4      320161  2019-09-22         f   $45.00         $45.00              30   \n",
       "\n",
       "   maximum_nights  \n",
       "0               7  \n",
       "1             365  \n",
       "2             365  \n",
       "3             365  \n",
       "4             365  "
      ]
     },
     "execution_count": 5,
     "metadata": {},
     "output_type": "execute_result"
    }
   ],
   "source": [
    "df_calendar.head()"
   ]
  },
  {
   "cell_type": "code",
   "execution_count": 6,
   "id": "bdf8e710",
   "metadata": {},
   "outputs": [
    {
     "data": {
      "text/html": [
       "<div>\n",
       "<style scoped>\n",
       "    .dataframe tbody tr th:only-of-type {\n",
       "        vertical-align: middle;\n",
       "    }\n",
       "\n",
       "    .dataframe tbody tr th {\n",
       "        vertical-align: top;\n",
       "    }\n",
       "\n",
       "    .dataframe thead th {\n",
       "        text-align: right;\n",
       "    }\n",
       "</style>\n",
       "<table border=\"1\" class=\"dataframe\">\n",
       "  <thead>\n",
       "    <tr style=\"text-align: right;\">\n",
       "      <th></th>\n",
       "      <th>listing_id</th>\n",
       "      <th>id</th>\n",
       "      <th>date</th>\n",
       "      <th>reviewer_id</th>\n",
       "      <th>reviewer_name</th>\n",
       "      <th>comments</th>\n",
       "    </tr>\n",
       "  </thead>\n",
       "  <tbody>\n",
       "    <tr>\n",
       "      <th>0</th>\n",
       "      <td>2265</td>\n",
       "      <td>963</td>\n",
       "      <td>2009-03-17</td>\n",
       "      <td>7538</td>\n",
       "      <td>Niall</td>\n",
       "      <td>I stayed here during SXSW and had a really ple...</td>\n",
       "    </tr>\n",
       "    <tr>\n",
       "      <th>1</th>\n",
       "      <td>2265</td>\n",
       "      <td>1057</td>\n",
       "      <td>2009-03-22</td>\n",
       "      <td>10029</td>\n",
       "      <td>Michael</td>\n",
       "      <td>Great place, close enough to everything downto...</td>\n",
       "    </tr>\n",
       "    <tr>\n",
       "      <th>2</th>\n",
       "      <td>2265</td>\n",
       "      <td>200418</td>\n",
       "      <td>2011-03-16</td>\n",
       "      <td>61677</td>\n",
       "      <td>Gustaf</td>\n",
       "      <td>We had a great time in Austin staying at Paddy...</td>\n",
       "    </tr>\n",
       "    <tr>\n",
       "      <th>3</th>\n",
       "      <td>2265</td>\n",
       "      <td>1001630</td>\n",
       "      <td>2012-03-15</td>\n",
       "      <td>1523753</td>\n",
       "      <td>Noah</td>\n",
       "      <td>We had a great stay at Zen East for South By S...</td>\n",
       "    </tr>\n",
       "    <tr>\n",
       "      <th>4</th>\n",
       "      <td>2265</td>\n",
       "      <td>1016390</td>\n",
       "      <td>2012-03-19</td>\n",
       "      <td>1547660</td>\n",
       "      <td>Melissa</td>\n",
       "      <td>I arrived late in the evening so did not meet ...</td>\n",
       "    </tr>\n",
       "  </tbody>\n",
       "</table>\n",
       "</div>"
      ],
      "text/plain": [
       "   listing_id       id        date  reviewer_id reviewer_name  \\\n",
       "0        2265      963  2009-03-17         7538         Niall   \n",
       "1        2265     1057  2009-03-22        10029       Michael   \n",
       "2        2265   200418  2011-03-16        61677        Gustaf   \n",
       "3        2265  1001630  2012-03-15      1523753          Noah   \n",
       "4        2265  1016390  2012-03-19      1547660       Melissa   \n",
       "\n",
       "                                            comments  \n",
       "0  I stayed here during SXSW and had a really ple...  \n",
       "1  Great place, close enough to everything downto...  \n",
       "2  We had a great time in Austin staying at Paddy...  \n",
       "3  We had a great stay at Zen East for South By S...  \n",
       "4  I arrived late in the evening so did not meet ...  "
      ]
     },
     "execution_count": 6,
     "metadata": {},
     "output_type": "execute_result"
    }
   ],
   "source": [
    "df_reviews.head()"
   ]
  },
  {
   "cell_type": "code",
   "execution_count": 7,
   "id": "e3e222a6",
   "metadata": {},
   "outputs": [
    {
     "name": "stdout",
     "output_type": "stream",
     "text": [
      "The number of unique listings in Austin between 09/18/2019 - 08/08/2020 is 11339, and there are 106 features. \n",
      "\n"
     ]
    }
   ],
   "source": [
    "print(f'The number of unique listings in Austin between 09/18/2019 - 08/08/2020 is {df_listing.shape[0]}, and there are {df_listing.shape[1]} features.', \"\\n\")"
   ]
  },
  {
   "cell_type": "code",
   "execution_count": 8,
   "id": "0b9eefa4",
   "metadata": {},
   "outputs": [
    {
     "name": "stdout",
     "output_type": "stream",
     "text": [
      "The number of calendar listings in Austin between 09/18/2019 - 08/08/2020 is 4138735, and there are 7 features. \n",
      "\n"
     ]
    }
   ],
   "source": [
    "print(f'The number of calendar listings in Austin between 09/18/2019 - 08/08/2020 is {df_calendar.shape[0]}, and there are {df_calendar.shape[1]} features.', \"\\n\")"
   ]
  },
  {
   "cell_type": "markdown",
   "id": "d5e2a360",
   "metadata": {},
   "source": [
    "## Step 1: Preprocessing\n",
    "\n",
    "### Step 1.1: Reformat date to year and month in `df_calendar`\n",
    "\n",
    "We begin by reformating the date form which is given as YY-MM-DD in `df_calendar` to a more convenient format. To do this, we create two new columns, month and year which are extracted from the date. \n",
    "\n",
    "Then we check if there are any missing values in the dataframe and decide what to do if there are any. Another preprocessing step for `df_calendar` is to change the *available* feature from **t,f** to **0,1**. This will be useful in future analysis.\n",
    "\n",
    "The *price* feature is not formatted correctly. It has the $ sign in front of it, and it is also given in string. As part of the preprocessing process, I reformat that column into a float. I don't use the *adjusted_price* column, but I reformat it the same way as *price*.\n",
    "\n",
    "Lasting for this dataframe, for ease of reading, we change dates months fro just numeric representation to abbreviated string representation. "
   ]
  },
  {
   "cell_type": "code",
   "execution_count": 9,
   "id": "f74dc7aa",
   "metadata": {},
   "outputs": [],
   "source": [
    "# create a new column for month and year from date attribute\n",
    "df_calendar['year'] = pd.DatetimeIndex(df_calendar['date']).year\n",
    "df_calendar['month'] = pd.DatetimeIndex(df_calendar['date']).month"
   ]
  },
  {
   "cell_type": "code",
   "execution_count": 10,
   "id": "76b5e244",
   "metadata": {},
   "outputs": [
    {
     "data": {
      "text/plain": [
       "listing_id        0\n",
       "date              0\n",
       "available         0\n",
       "price             0\n",
       "adjusted_price    0\n",
       "minimum_nights    0\n",
       "maximum_nights    0\n",
       "year              0\n",
       "month             0\n",
       "dtype: int64"
      ]
     },
     "execution_count": 10,
     "metadata": {},
     "output_type": "execute_result"
    }
   ],
   "source": [
    "# check if there are any missing values in calendar dataframe\n",
    "df_calendar.isnull().sum()"
   ]
  },
  {
   "cell_type": "code",
   "execution_count": 11,
   "id": "c83ecca8",
   "metadata": {},
   "outputs": [],
   "source": [
    "available_to_numeric = {'t': 1, 'f':0}\n",
    "df_calendar['available'] = df_calendar['available'].map(available_to_numeric)"
   ]
  },
  {
   "cell_type": "code",
   "execution_count": 12,
   "id": "c08eaecd",
   "metadata": {},
   "outputs": [],
   "source": [
    "month_to_string = {1: 'Jan', 2: 'Feb', 3: 'Mar', 4: 'Apr', 5: 'May',\n",
    "                   6: 'Jun', 7: 'Jul', 8: 'Aug', 9: 'Sep', 10: 'Oct',\n",
    "                   11: 'Nov', 12: 'Dec'}\n",
    "df_calendar['month'] = df_calendar['month'].map(month_to_string)"
   ]
  },
  {
   "cell_type": "code",
   "execution_count": 13,
   "id": "eb33c4c1",
   "metadata": {},
   "outputs": [
    {
     "data": {
      "text/plain": [
       "Dec    351509\n",
       "Jan    351509\n",
       "Mar    351509\n",
       "May    351509\n",
       "Jul    351509\n",
       "Aug    351509\n",
       "Oct    351508\n",
       "Nov    340170\n",
       "Apr    340170\n",
       "Jun    340170\n",
       "Sep    328832\n",
       "Feb    328831\n",
       "Name: month, dtype: int64"
      ]
     },
     "execution_count": 13,
     "metadata": {},
     "output_type": "execute_result"
    }
   ],
   "source": [
    "df_calendar['month'].value_counts()"
   ]
  },
  {
   "cell_type": "code",
   "execution_count": 14,
   "id": "88cd271e",
   "metadata": {},
   "outputs": [],
   "source": [
    "# We remove the $ sign in front of the prices, and convert from string to float.\n",
    "df_calendar['price'] = df_calendar['price'].apply(lambda x: float(x.strip('$').replace(',', '')))\n",
    "df_calendar['adjusted_price'] = df_calendar['adjusted_price'].apply(lambda x: float(x.strip('$').replace(',', '')))"
   ]
  },
  {
   "cell_type": "code",
   "execution_count": 15,
   "id": "47b29273",
   "metadata": {},
   "outputs": [
    {
     "data": {
      "text/html": [
       "<div>\n",
       "<style scoped>\n",
       "    .dataframe tbody tr th:only-of-type {\n",
       "        vertical-align: middle;\n",
       "    }\n",
       "\n",
       "    .dataframe tbody tr th {\n",
       "        vertical-align: top;\n",
       "    }\n",
       "\n",
       "    .dataframe thead th {\n",
       "        text-align: right;\n",
       "    }\n",
       "</style>\n",
       "<table border=\"1\" class=\"dataframe\">\n",
       "  <thead>\n",
       "    <tr style=\"text-align: right;\">\n",
       "      <th></th>\n",
       "      <th>listing_id</th>\n",
       "      <th>date</th>\n",
       "      <th>available</th>\n",
       "      <th>price</th>\n",
       "      <th>adjusted_price</th>\n",
       "      <th>minimum_nights</th>\n",
       "      <th>maximum_nights</th>\n",
       "      <th>year</th>\n",
       "      <th>month</th>\n",
       "    </tr>\n",
       "  </thead>\n",
       "  <tbody>\n",
       "    <tr>\n",
       "      <th>0</th>\n",
       "      <td>320435</td>\n",
       "      <td>2019-09-19</td>\n",
       "      <td>1</td>\n",
       "      <td>625.0</td>\n",
       "      <td>625.0</td>\n",
       "      <td>4</td>\n",
       "      <td>7</td>\n",
       "      <td>2019</td>\n",
       "      <td>Sep</td>\n",
       "    </tr>\n",
       "    <tr>\n",
       "      <th>1</th>\n",
       "      <td>320161</td>\n",
       "      <td>2019-09-19</td>\n",
       "      <td>0</td>\n",
       "      <td>45.0</td>\n",
       "      <td>45.0</td>\n",
       "      <td>30</td>\n",
       "      <td>365</td>\n",
       "      <td>2019</td>\n",
       "      <td>Sep</td>\n",
       "    </tr>\n",
       "    <tr>\n",
       "      <th>2</th>\n",
       "      <td>320161</td>\n",
       "      <td>2019-09-20</td>\n",
       "      <td>0</td>\n",
       "      <td>45.0</td>\n",
       "      <td>45.0</td>\n",
       "      <td>30</td>\n",
       "      <td>365</td>\n",
       "      <td>2019</td>\n",
       "      <td>Sep</td>\n",
       "    </tr>\n",
       "    <tr>\n",
       "      <th>3</th>\n",
       "      <td>320161</td>\n",
       "      <td>2019-09-21</td>\n",
       "      <td>0</td>\n",
       "      <td>45.0</td>\n",
       "      <td>45.0</td>\n",
       "      <td>30</td>\n",
       "      <td>365</td>\n",
       "      <td>2019</td>\n",
       "      <td>Sep</td>\n",
       "    </tr>\n",
       "    <tr>\n",
       "      <th>4</th>\n",
       "      <td>320161</td>\n",
       "      <td>2019-09-22</td>\n",
       "      <td>0</td>\n",
       "      <td>45.0</td>\n",
       "      <td>45.0</td>\n",
       "      <td>30</td>\n",
       "      <td>365</td>\n",
       "      <td>2019</td>\n",
       "      <td>Sep</td>\n",
       "    </tr>\n",
       "  </tbody>\n",
       "</table>\n",
       "</div>"
      ],
      "text/plain": [
       "   listing_id        date  available  price  adjusted_price  minimum_nights  \\\n",
       "0      320435  2019-09-19          1  625.0           625.0               4   \n",
       "1      320161  2019-09-19          0   45.0            45.0              30   \n",
       "2      320161  2019-09-20          0   45.0            45.0              30   \n",
       "3      320161  2019-09-21          0   45.0            45.0              30   \n",
       "4      320161  2019-09-22          0   45.0            45.0              30   \n",
       "\n",
       "   maximum_nights  year month  \n",
       "0               7  2019   Sep  \n",
       "1             365  2019   Sep  \n",
       "2             365  2019   Sep  \n",
       "3             365  2019   Sep  \n",
       "4             365  2019   Sep  "
      ]
     },
     "execution_count": 15,
     "metadata": {},
     "output_type": "execute_result"
    }
   ],
   "source": [
    "df_calendar.head()"
   ]
  },
  {
   "cell_type": "markdown",
   "id": "94c4769d",
   "metadata": {},
   "source": [
    "### Step 1.2:  Preprocessing on `df_listings.csv`\n",
    "\n",
    "This is a data set with $106$ columns, many of which will contains lots of zeros, and some which the entries will not be useful for our analysis. We do some preliminary checks on the number of missing values for each columns, and set a threshold for the maximum percentage of missing values to be allowed before a column is dropped. We also drop some unuseful columns that does not contain any useful information for our analysis.\n",
    "\n",
    "For some of these, I will provide my justification for dropping them, why some will be obvious."
   ]
  },
  {
   "cell_type": "markdown",
   "id": "9f941209",
   "metadata": {},
   "source": [
    "#### Step 1.2.1: Dropping irrelevant columns"
   ]
  },
  {
   "cell_type": "code",
   "execution_count": 16,
   "id": "4b173be7",
   "metadata": {},
   "outputs": [
    {
     "data": {
      "text/plain": [
       "(11339, 106)"
      ]
     },
     "execution_count": 16,
     "metadata": {},
     "output_type": "execute_result"
    }
   ],
   "source": [
    "df = df_listing.copy()\n",
    "df.shape"
   ]
  },
  {
   "cell_type": "code",
   "execution_count": 17,
   "id": "a6d7b27b",
   "metadata": {},
   "outputs": [],
   "source": [
    "# We perform an assessment of how much missing data is in each column\n",
    "df_column_nan = df.isna().mean().sort_values(ascending=False)*100"
   ]
  },
  {
   "cell_type": "code",
   "execution_count": 18,
   "id": "c33f6a50",
   "metadata": {},
   "outputs": [
    {
     "data": {
      "image/png": "[encoded data removed]",
      "text/plain": [
       "<Figure size 432x288 with 1 Axes>"
      ]
     },
     "metadata": {
      "needs_background": "light"
     },
     "output_type": "display_data"
    }
   ],
   "source": [
    "# Histogram of amount of missing data\n",
    "plt.hist(df_column_nan)\n",
    "plt.xticks(np.arange(0,100,10), [str(x) for x in np.arange(0,100,10)])\n",
    "plt.xlabel('% of missing values')\n",
    "plt.ylabel('No. of columns');"
   ]
  },
  {
   "cell_type": "markdown",
   "id": "5f5b0929",
   "metadata": {},
   "source": [
    "Comment:\n",
    "\n",
    "From the histogram, we see that the outliers have more than $40%$ of missing values. Therefore, as a first step, we drop all columns that have more than this percentage of missing values"
   ]
  },
  {
   "cell_type": "code",
   "execution_count": 19,
   "id": "f3fa1898",
   "metadata": {},
   "outputs": [
    {
     "data": {
      "text/plain": [
       "Index(['neighbourhood_group_cleansed', 'thumbnail_url', 'xl_picture_url',\n",
       "       'medium_url', 'host_acceptance_rate', 'license', 'square_feet',\n",
       "       'monthly_price', 'weekly_price', 'notes'],\n",
       "      dtype='object')"
      ]
     },
     "execution_count": 19,
     "metadata": {},
     "output_type": "execute_result"
    }
   ],
   "source": [
    "# As a first step we check for columns with more than 40% of NaNs\n",
    "removed_columns_1 = df_column_nan[df_column_nan > 40].index\n",
    "removed_columns_1"
   ]
  },
  {
   "cell_type": "code",
   "execution_count": 20,
   "id": "c16cad81",
   "metadata": {},
   "outputs": [],
   "source": [
    "# drop columns with more than 40% Nan\n",
    "df.drop(removed_columns_1, axis=1, inplace=True)"
   ]
  },
  {
   "cell_type": "code",
   "execution_count": 21,
   "id": "aa6fc069",
   "metadata": {},
   "outputs": [],
   "source": [
    "# We check for columns with just one unique entry and drop them, as they are not useful for the analysis\n",
    "nunique_listings = df.nunique(axis=0).sort_values(ascending=False)"
   ]
  },
  {
   "cell_type": "code",
   "execution_count": 22,
   "id": "d52cda08",
   "metadata": {},
   "outputs": [
    {
     "data": {
      "text/plain": [
       "Index(['requires_license', 'jurisdiction_names', 'scrape_id',\n",
       "       'is_business_travel_ready', 'country_code', 'country',\n",
       "       'has_availability', 'experiences_offered'],\n",
       "      dtype='object')"
      ]
     },
     "execution_count": 22,
     "metadata": {},
     "output_type": "execute_result"
    }
   ],
   "source": [
    "removed_columns_2 = nunique_listings[nunique_listings == 1].index\n",
    "removed_columns_2"
   ]
  },
  {
   "cell_type": "code",
   "execution_count": 23,
   "id": "abd5f343",
   "metadata": {},
   "outputs": [],
   "source": [
    "# drop columns with same entries\n",
    "df.drop(removed_columns_2, axis=1, inplace=True)"
   ]
  },
  {
   "cell_type": "code",
   "execution_count": 24,
   "id": "02c8f7bf",
   "metadata": {},
   "outputs": [],
   "source": [
    "# Next we check for categorical variables with more than 10 categories\n",
    "categorical_features = df.select_dtypes(include=['object']).columns"
   ]
  },
  {
   "cell_type": "code",
   "execution_count": 25,
   "id": "ad45cbb0",
   "metadata": {},
   "outputs": [
    {
     "name": "stdout",
     "output_type": "stream",
     "text": [
      "['listing_url', 'name', 'summary', 'space', 'description', 'neighborhood_overview', 'transit', 'access', 'interaction', 'house_rules', 'picture_url', 'host_url', 'host_name', 'host_since', 'host_location', 'host_about', 'host_response_rate', 'host_thumbnail_url', 'host_picture_url', 'host_neighbourhood', 'host_verifications', 'street', 'neighbourhood', 'city', 'zipcode', 'smart_location', 'property_type', 'amenities', 'price', 'security_deposit', 'cleaning_fee', 'extra_people', 'calendar_updated', 'first_review', 'last_review']\n"
     ]
    },
    {
     "data": {
      "text/plain": [
       "35"
      ]
     },
     "execution_count": 25,
     "metadata": {},
     "output_type": "execute_result"
    }
   ],
   "source": [
    "dropped_categorical = []\n",
    "for label in categorical_features:\n",
    "    try:\n",
    "        if len(df[label].dropna().unique()) > 10:\n",
    "            dropped_categorical.append(label)               \n",
    "    except KeyError:\n",
    "        pass\n",
    "    \n",
    "print(dropped_categorical)\n",
    "len(dropped_categorical)"
   ]
  },
  {
   "cell_type": "markdown",
   "id": "1ae38839",
   "metadata": {},
   "source": [
    "#### Comments:\n",
    "\n",
    "We need to be careful before we drop these columns as some of them may actually be 'floats', which are written as strings. Therefore, I will manually check each one of them to be sure that they actually need to be dropped. Out of the 35 features with more than 10 categories, we drop 26 columns and do not drop 9 columns are explained below.\n",
    "\n",
    "From my anaysis, the following **will not** be dropped as they actually can be converted to floats.\n",
    "\n",
    "1. `host_since`: Can be made into a column of year\n",
    "2. `host_response_rate`: Can be converted to floats\n",
    "3. `host_verifications`: Can be turned to a continuous feature by counting the number of verifications required for each listing.\n",
    "4. `property_type`: Can be turned to a categorical feature by turning some catgories to *Others*.\n",
    "5. `amenities`: Can be turned to a continuous feature by counting the number of amentities for each listing.\n",
    "6. `price`: Can be converted to floats.\n",
    "7. `security_deposit`: Can be converted to floats.\n",
    "8. `cleaning_fee`: Can be converted to floats.\n",
    "9. `extra_people`: Can be converted to floats.\n",
    "\n",
    "However, the following columns **will** be dropped. I will also give a brief explanation why I think so.\n",
    "\n",
    "* `listing_url`, `picture_url`, `host_url`, `host_thumbnail_url`, `host_picture_url`: These are just URL's that provide no information.\n",
    "* `name`, `summary`, `space`, `description`, `neighborhood_overview`, `transit`, `access`, `interaction`, `house_rules`, `host_about`: These are just bunch of texts. \n",
    "* `host_name`, `first_review`, `last_review`: obviously not relevant. \n",
    "* `host_neighbourhood`, `neighbourhood`, `zipcode`, `calendar_updated`: too much categories\n",
    "* `street`, `city`, `smart_location`, `host_location`: one category has a very huge count."
   ]
  },
  {
   "cell_type": "code",
   "execution_count": 26,
   "id": "5c659c6a",
   "metadata": {},
   "outputs": [],
   "source": [
    "# Next we drop columns that obviously do not contain any relevant information.\n",
    "df.drop(['listing_url', 'name', 'summary', 'space', 'description', 'neighborhood_overview', \n",
    "         'transit', 'access', 'interaction', 'house_rules', 'picture_url', 'host_url', 'host_name', \n",
    "         'host_location', 'host_about', 'host_thumbnail_url', 'host_picture_url', \n",
    "         'host_neighbourhood', 'street', 'neighbourhood', 'city', 'zipcode', \n",
    "         'smart_location', 'calendar_updated', 'first_review', 'last_review'], axis=1, inplace=True)"
   ]
  },
  {
   "cell_type": "markdown",
   "id": "c491fb9f",
   "metadata": {},
   "source": [
    "#### Comments:\n",
    "\n",
    "There are still some columns which are not useful which still need to be dropped. We list them here, with a brief explanation to why they will be dropped.\n",
    "\n",
    "* `last_scraped`, `host_id`, `state`, `market`, `latitude`, `longitude`, `calendar_last_scraped`, `neighbourhood_cleansed` : These columns do not also provide any releveant information\n",
    "\n",
    "Note that `id` is a column that should be dropped also. But we still need it to answer some questions before doing regression. We will drop it later.\n"
   ]
  },
  {
   "cell_type": "code",
   "execution_count": 27,
   "id": "9c410683",
   "metadata": {},
   "outputs": [],
   "source": [
    "removed_columns_3 = ['last_scraped', 'host_id', 'state', 'market', 'latitude', 'longitude', \n",
    "                     'neighbourhood_cleansed', 'calendar_last_scraped']\n",
    "df.drop(removed_columns_3, axis=1, inplace=True)"
   ]
  },
  {
   "cell_type": "code",
   "execution_count": 28,
   "id": "873818b8",
   "metadata": {},
   "outputs": [
    {
     "data": {
      "text/plain": [
       "Index(['id', 'host_since', 'host_response_time', 'host_response_rate',\n",
       "       'host_is_superhost', 'host_listings_count', 'host_total_listings_count',\n",
       "       'host_verifications', 'host_has_profile_pic', 'host_identity_verified',\n",
       "       'is_location_exact', 'property_type', 'room_type', 'accommodates',\n",
       "       'bathrooms', 'bedrooms', 'beds', 'bed_type', 'amenities', 'price',\n",
       "       'security_deposit', 'cleaning_fee', 'guests_included', 'extra_people',\n",
       "       'minimum_nights', 'maximum_nights', 'minimum_minimum_nights',\n",
       "       'maximum_minimum_nights', 'minimum_maximum_nights',\n",
       "       'maximum_maximum_nights', 'minimum_nights_avg_ntm',\n",
       "       'maximum_nights_avg_ntm', 'availability_30', 'availability_60',\n",
       "       'availability_90', 'availability_365', 'number_of_reviews',\n",
       "       'number_of_reviews_ltm', 'review_scores_rating',\n",
       "       'review_scores_accuracy', 'review_scores_cleanliness',\n",
       "       'review_scores_checkin', 'review_scores_communication',\n",
       "       'review_scores_location', 'review_scores_value', 'instant_bookable',\n",
       "       'cancellation_policy', 'require_guest_profile_picture',\n",
       "       'require_guest_phone_verification', 'calculated_host_listings_count',\n",
       "       'calculated_host_listings_count_entire_homes',\n",
       "       'calculated_host_listings_count_private_rooms',\n",
       "       'calculated_host_listings_count_shared_rooms', 'reviews_per_month'],\n",
       "      dtype='object')"
      ]
     },
     "execution_count": 28,
     "metadata": {},
     "output_type": "execute_result"
    }
   ],
   "source": [
    "df.columns"
   ]
  },
  {
   "cell_type": "code",
   "execution_count": 29,
   "id": "f8a7a57e",
   "metadata": {},
   "outputs": [
    {
     "data": {
      "text/plain": [
       "(11339, 54)"
      ]
     },
     "execution_count": 29,
     "metadata": {},
     "output_type": "execute_result"
    }
   ],
   "source": [
    "df.shape"
   ]
  },
  {
   "cell_type": "markdown",
   "id": "5fa03f2a",
   "metadata": {},
   "source": [
    "#### Step 1.2.2: Reformat columns in `df_listings`\n",
    "\n",
    "In this subsection, we reformat some of the columns we do not drop."
   ]
  },
  {
   "cell_type": "code",
   "execution_count": 30,
   "id": "31edc7f9",
   "metadata": {},
   "outputs": [
    {
     "data": {
      "text/plain": [
       "2015.0    1801\n",
       "2016.0    1707\n",
       "2014.0    1611\n",
       "2017.0    1452\n",
       "2013.0    1337\n",
       "2012.0    1103\n",
       "2018.0     942\n",
       "2011.0     672\n",
       "2019.0     508\n",
       "2010.0     147\n",
       "2009.0      48\n",
       "2008.0       6\n",
       "Name: host_since, dtype: int64"
      ]
     },
     "execution_count": 30,
     "metadata": {},
     "output_type": "execute_result"
    }
   ],
   "source": [
    "# Change host_since to just year\n",
    "df['host_since'] = pd.DatetimeIndex(df['host_since']).year\n",
    "df['host_since'].value_counts()"
   ]
  },
  {
   "cell_type": "markdown",
   "id": "9d566b6c",
   "metadata": {},
   "source": [
    "#### Comments:\n",
    "\n",
    "The number of categories in the reformated `host_since` is a little too much. So we perform the following further analysis."
   ]
  },
  {
   "cell_type": "code",
   "execution_count": 31,
   "id": "53aa70d7",
   "metadata": {},
   "outputs": [],
   "source": [
    "host_since_map = {2008.0: '08-09', 2009.0: '08-09', 2010.0: '10-11', 2011.0: '10-11',\n",
    "                 2012: '12-13', 2013: '12-13', 2014: '14-15', 2015: '14-15', \n",
    "                  2016: '16-17', 2017: '16-17', 2018: '18-19', 2019: '18-19'}\n",
    "df['host_since'] = df['host_since'].map(host_since_map)"
   ]
  },
  {
   "cell_type": "code",
   "execution_count": 32,
   "id": "81af2dd2",
   "metadata": {},
   "outputs": [
    {
     "data": {
      "text/plain": [
       "14-15    3412\n",
       "16-17    3159\n",
       "12-13    2440\n",
       "18-19    1450\n",
       "10-11     819\n",
       "08-09      54\n",
       "Name: host_since, dtype: int64"
      ]
     },
     "execution_count": 32,
     "metadata": {},
     "output_type": "execute_result"
    }
   ],
   "source": [
    "df['host_since'].value_counts()"
   ]
  },
  {
   "cell_type": "code",
   "execution_count": 33,
   "id": "81e68bdc",
   "metadata": {},
   "outputs": [
    {
     "data": {
      "text/plain": [
       "100%    6012\n",
       "99%      382\n",
       "98%      229\n",
       "90%      225\n",
       "97%      115\n",
       "Name: host_response_rate, dtype: int64"
      ]
     },
     "execution_count": 33,
     "metadata": {},
     "output_type": "execute_result"
    }
   ],
   "source": [
    "# We remove the % in front of the numbers in host_response_rate and convert to float.\n",
    "df['host_response_rate'].value_counts()[:5]"
   ]
  },
  {
   "cell_type": "code",
   "execution_count": 34,
   "id": "766596a5",
   "metadata": {},
   "outputs": [
    {
     "data": {
      "text/plain": [
       "100.0    6012\n",
       "99.0      382\n",
       "98.0      229\n",
       "90.0      225\n",
       "97.0      115\n",
       "0.0        87\n",
       "80.0       64\n",
       "94.0       49\n",
       "50.0       45\n",
       "91.0       45\n",
       "67.0       41\n",
       "88.0       38\n",
       "89.0       33\n",
       "96.0       33\n",
       "82.0       26\n",
       "92.0       24\n",
       "81.0       22\n",
       "60.0       20\n",
       "83.0       19\n",
       "70.0       18\n",
       "85.0       18\n",
       "75.0       18\n",
       "93.0       16\n",
       "86.0       14\n",
       "95.0       13\n",
       "33.0       11\n",
       "77.0        9\n",
       "79.0        8\n",
       "40.0        7\n",
       "71.0        5\n",
       "73.0        5\n",
       "25.0        5\n",
       "64.0        5\n",
       "62.0        4\n",
       "63.0        4\n",
       "57.0        4\n",
       "56.0        3\n",
       "61.0        3\n",
       "78.0        3\n",
       "74.0        2\n",
       "31.0        2\n",
       "87.0        2\n",
       "43.0        2\n",
       "42.0        2\n",
       "22.0        1\n",
       "29.0        1\n",
       "47.0        1\n",
       "20.0        1\n",
       "84.0        1\n",
       "55.0        1\n",
       "44.0        1\n",
       "17.0        1\n",
       "76.0        1\n",
       "13.0        1\n",
       "65.0        1\n",
       "Name: host_response_rate, dtype: int64"
      ]
     },
     "execution_count": 34,
     "metadata": {},
     "output_type": "execute_result"
    }
   ],
   "source": [
    "df['host_response_rate'] = df['host_response_rate'].apply(lambda x: float(str(x).strip('%')))\n",
    "df['host_response_rate'].value_counts()"
   ]
  },
  {
   "cell_type": "code",
   "execution_count": 35,
   "id": "940bd353",
   "metadata": {},
   "outputs": [
    {
     "data": {
      "text/plain": [
       "0         ['email', 'phone', 'facebook', 'reviews', 'kba']\n",
       "1         ['email', 'phone', 'facebook', 'reviews', 'kba']\n",
       "2                     ['email', 'phone', 'reviews', 'kba']\n",
       "3        ['email', 'phone', 'reviews', 'jumio', 'govern...\n",
       "4        ['email', 'phone', 'reviews', 'jumio', 'offlin...\n",
       "                               ...                        \n",
       "11334                                   ['email', 'phone']\n",
       "11335                                 ['phone', 'reviews']\n",
       "11336                                   ['email', 'phone']\n",
       "11337                 ['email', 'phone', 'reviews', 'kba']\n",
       "11338    ['email', 'phone', 'offline_government_id', 'g...\n",
       "Name: host_verifications, Length: 11339, dtype: object"
      ]
     },
     "execution_count": 35,
     "metadata": {},
     "output_type": "execute_result"
    }
   ],
   "source": [
    "# We turn host_verifications to a continuous variable\n",
    "df['host_verifications']"
   ]
  },
  {
   "cell_type": "code",
   "execution_count": 36,
   "id": "feab3bef",
   "metadata": {},
   "outputs": [
    {
     "data": {
      "text/plain": [
       "0        5\n",
       "1        5\n",
       "2        4\n",
       "3        6\n",
       "4        8\n",
       "        ..\n",
       "11334    2\n",
       "11335    2\n",
       "11336    2\n",
       "11337    4\n",
       "11338    4\n",
       "Name: host_verifications, Length: 11339, dtype: int64"
      ]
     },
     "execution_count": 36,
     "metadata": {},
     "output_type": "execute_result"
    }
   ],
   "source": [
    "df['host_verifications'] = df['host_verifications'].apply(lambda x: len(list(x.split(',')))) \n",
    "df['host_verifications']"
   ]
  },
  {
   "cell_type": "code",
   "execution_count": 37,
   "id": "06312ce7",
   "metadata": {},
   "outputs": [
    {
     "data": {
      "text/plain": [
       "0        {TV,\"Cable TV\",Internet,Wifi,\"Air conditioning...\n",
       "1        {TV,\"Cable TV\",Internet,Wifi,\"Air conditioning...\n",
       "2        {TV,Wifi,\"Air conditioning\",Kitchen,\"Pets live...\n",
       "3        {TV,\"Cable TV\",Internet,Wifi,\"Air conditioning...\n",
       "4        {TV,\"Cable TV\",Internet,Wifi,\"Air conditioning...\n",
       "                               ...                        \n",
       "11334    {TV,Wifi,\"Air conditioning\",Pool,Kitchen,\"Free...\n",
       "11335    {\"Air conditioning\",Pool,Kitchen,\"Free parking...\n",
       "11336    {\"Air conditioning\",Pool,Kitchen,\"Smoking allo...\n",
       "11337    {TV,Wifi,\"Air conditioning\",Kitchen,\"Free park...\n",
       "11338    {TV,Wifi,\"Air conditioning\",Kitchen,\"Free park...\n",
       "Name: amenities, Length: 11339, dtype: object"
      ]
     },
     "execution_count": 37,
     "metadata": {},
     "output_type": "execute_result"
    }
   ],
   "source": [
    "# Next we work on amenities\n",
    "df['amenities']"
   ]
  },
  {
   "cell_type": "code",
   "execution_count": 38,
   "id": "34935a71",
   "metadata": {},
   "outputs": [
    {
     "data": {
      "text/plain": [
       "0        38\n",
       "1        27\n",
       "2        29\n",
       "3        22\n",
       "4        22\n",
       "         ..\n",
       "11334    20\n",
       "11335    20\n",
       "11336    14\n",
       "11337    29\n",
       "11338    24\n",
       "Name: amenities, Length: 11339, dtype: int64"
      ]
     },
     "execution_count": 38,
     "metadata": {},
     "output_type": "execute_result"
    }
   ],
   "source": [
    "# We turn amenities to a continuous variable\n",
    "df['amenities'] = df['amenities'].apply(lambda x: len(x.split(',')))\n",
    "df['amenities']"
   ]
  },
  {
   "cell_type": "code",
   "execution_count": 39,
   "id": "63a3617a",
   "metadata": {},
   "outputs": [
    {
     "data": {
      "text/plain": [
       "House                 5141\n",
       "Apartment             2957\n",
       "Condominium            963\n",
       "Guesthouse             496\n",
       "Townhouse              414\n",
       "Bungalow               311\n",
       "Guest suite            259\n",
       "Serviced apartment     157\n",
       "Loft                   137\n",
       "Camper/RV               92\n",
       "Cottage                 61\n",
       "Tiny house              58\n",
       "Other                   43\n",
       "Villa                   39\n",
       "Bed and breakfast       34\n",
       "Cabin                   29\n",
       "Resort                  26\n",
       "Hostel                  24\n",
       "Boutique hotel          14\n",
       "Tent                    13\n",
       "Aparthotel              13\n",
       "Campsite                 9\n",
       "Farm stay                8\n",
       "Boat                     7\n",
       "Yurt                     7\n",
       "Hotel                    6\n",
       "Treehouse                5\n",
       "Tipi                     4\n",
       "Barn                     3\n",
       "Chalet                   2\n",
       "Houseboat                2\n",
       "Dome house               2\n",
       "Hut                      2\n",
       "Bus                      1\n",
       "Name: property_type, dtype: int64"
      ]
     },
     "execution_count": 39,
     "metadata": {},
     "output_type": "execute_result"
    }
   ],
   "source": [
    "# Next, we work on property_type\n",
    "df['property_type'].value_counts()"
   ]
  },
  {
   "cell_type": "code",
   "execution_count": 40,
   "id": "a0cc75ea",
   "metadata": {},
   "outputs": [],
   "source": [
    "property_type_map = {'House': 'House', 'Guesthouse': 'House', 'Townhouse': 'House', 'Tiny house': 'House',\n",
    "                     'Apartment': 'Apartment', 'Serviced apartment': 'Apartment',\n",
    "                     'Boutique hotel': 'Hotel', 'Aparthotel': 'Hotel', 'Hotel': 'Hotel',\n",
    "                     'Condominium': 'Condominium', 'Bungalow': 'Bungalow', 'Guest suite': 'Guest suite',\n",
    "                     'Loft': 'Others', 'Camper/RV': 'Others', 'Cottage': 'Others', 'Other': 'Others', \n",
    "                     'Villa': 'Others', 'Bed and breakfast': 'Others', 'Cabin': 'Others', 'Resort': 'Others', \n",
    "                     'Hostel': 'Others', 'Tent': 'Others', 'Campsite': 'Others', 'Farm stay': 'Others', \n",
    "                     'Boat': 'Others', 'Yurt': 'Others', 'Treehouse': 'Others', 'Tipi': 'Others', \n",
    "                     'Barn': 'Others', 'Chalet': 'Others', 'Houseboat': 'Others', 'Dome house': 'Others', \n",
    "                     'Hut': 'Others', 'Bus': 'Others'}\n",
    "\n",
    "df['property_type'] = df['property_type'].map(property_type_map)"
   ]
  },
  {
   "cell_type": "code",
   "execution_count": 41,
   "id": "795c5fa2",
   "metadata": {},
   "outputs": [
    {
     "data": {
      "text/plain": [
       "House          6109\n",
       "Apartment      3114\n",
       "Condominium     963\n",
       "Others          550\n",
       "Bungalow        311\n",
       "Guest suite     259\n",
       "Hotel            33\n",
       "Name: property_type, dtype: int64"
      ]
     },
     "execution_count": 41,
     "metadata": {},
     "output_type": "execute_result"
    }
   ],
   "source": [
    "df['property_type'].value_counts()"
   ]
  },
  {
   "cell_type": "code",
   "execution_count": 42,
   "id": "d861e93c",
   "metadata": {},
   "outputs": [],
   "source": [
    "# We remove the $ sign from \"price\", \"extra_people\" and convert them to floats.\n",
    "df['price'] = df['price'].apply(lambda x: float(x.strip('$').replace(',', '')))\n",
    "df['extra_people'] = df['extra_people'].apply(lambda x: float(x.strip('$').replace(',', '')))"
   ]
  },
  {
   "cell_type": "code",
   "execution_count": 43,
   "id": "bf9a0b43",
   "metadata": {},
   "outputs": [
    {
     "data": {
      "text/html": [
       "<div>\n",
       "<style scoped>\n",
       "    .dataframe tbody tr th:only-of-type {\n",
       "        vertical-align: middle;\n",
       "    }\n",
       "\n",
       "    .dataframe tbody tr th {\n",
       "        vertical-align: top;\n",
       "    }\n",
       "\n",
       "    .dataframe thead th {\n",
       "        text-align: right;\n",
       "    }\n",
       "</style>\n",
       "<table border=\"1\" class=\"dataframe\">\n",
       "  <thead>\n",
       "    <tr style=\"text-align: right;\">\n",
       "      <th></th>\n",
       "      <th>id</th>\n",
       "      <th>host_since</th>\n",
       "      <th>host_response_time</th>\n",
       "      <th>host_response_rate</th>\n",
       "      <th>host_is_superhost</th>\n",
       "      <th>host_listings_count</th>\n",
       "      <th>host_total_listings_count</th>\n",
       "      <th>host_verifications</th>\n",
       "      <th>host_has_profile_pic</th>\n",
       "      <th>host_identity_verified</th>\n",
       "      <th>...</th>\n",
       "      <th>review_scores_value</th>\n",
       "      <th>instant_bookable</th>\n",
       "      <th>cancellation_policy</th>\n",
       "      <th>require_guest_profile_picture</th>\n",
       "      <th>require_guest_phone_verification</th>\n",
       "      <th>calculated_host_listings_count</th>\n",
       "      <th>calculated_host_listings_count_entire_homes</th>\n",
       "      <th>calculated_host_listings_count_private_rooms</th>\n",
       "      <th>calculated_host_listings_count_shared_rooms</th>\n",
       "      <th>reviews_per_month</th>\n",
       "    </tr>\n",
       "  </thead>\n",
       "  <tbody>\n",
       "    <tr>\n",
       "      <th>0</th>\n",
       "      <td>2265</td>\n",
       "      <td>08-09</td>\n",
       "      <td>within a few hours</td>\n",
       "      <td>100.0</td>\n",
       "      <td>t</td>\n",
       "      <td>3.0</td>\n",
       "      <td>3.0</td>\n",
       "      <td>5</td>\n",
       "      <td>t</td>\n",
       "      <td>t</td>\n",
       "      <td>...</td>\n",
       "      <td>9.0</td>\n",
       "      <td>f</td>\n",
       "      <td>strict_14_with_grace_period</td>\n",
       "      <td>f</td>\n",
       "      <td>f</td>\n",
       "      <td>3</td>\n",
       "      <td>2</td>\n",
       "      <td>1</td>\n",
       "      <td>0</td>\n",
       "      <td>0.19</td>\n",
       "    </tr>\n",
       "    <tr>\n",
       "      <th>1</th>\n",
       "      <td>5245</td>\n",
       "      <td>08-09</td>\n",
       "      <td>within a few hours</td>\n",
       "      <td>100.0</td>\n",
       "      <td>t</td>\n",
       "      <td>3.0</td>\n",
       "      <td>3.0</td>\n",
       "      <td>5</td>\n",
       "      <td>t</td>\n",
       "      <td>t</td>\n",
       "      <td>...</td>\n",
       "      <td>9.0</td>\n",
       "      <td>f</td>\n",
       "      <td>strict_14_with_grace_period</td>\n",
       "      <td>f</td>\n",
       "      <td>f</td>\n",
       "      <td>3</td>\n",
       "      <td>2</td>\n",
       "      <td>1</td>\n",
       "      <td>0</td>\n",
       "      <td>0.07</td>\n",
       "    </tr>\n",
       "    <tr>\n",
       "      <th>2</th>\n",
       "      <td>5456</td>\n",
       "      <td>08-09</td>\n",
       "      <td>within an hour</td>\n",
       "      <td>100.0</td>\n",
       "      <td>t</td>\n",
       "      <td>1.0</td>\n",
       "      <td>1.0</td>\n",
       "      <td>4</td>\n",
       "      <td>t</td>\n",
       "      <td>t</td>\n",
       "      <td>...</td>\n",
       "      <td>10.0</td>\n",
       "      <td>f</td>\n",
       "      <td>strict_14_with_grace_period</td>\n",
       "      <td>f</td>\n",
       "      <td>t</td>\n",
       "      <td>1</td>\n",
       "      <td>1</td>\n",
       "      <td>0</td>\n",
       "      <td>0</td>\n",
       "      <td>3.89</td>\n",
       "    </tr>\n",
       "    <tr>\n",
       "      <th>3</th>\n",
       "      <td>5769</td>\n",
       "      <td>08-09</td>\n",
       "      <td>within an hour</td>\n",
       "      <td>100.0</td>\n",
       "      <td>t</td>\n",
       "      <td>1.0</td>\n",
       "      <td>1.0</td>\n",
       "      <td>6</td>\n",
       "      <td>t</td>\n",
       "      <td>t</td>\n",
       "      <td>...</td>\n",
       "      <td>10.0</td>\n",
       "      <td>f</td>\n",
       "      <td>moderate</td>\n",
       "      <td>t</td>\n",
       "      <td>t</td>\n",
       "      <td>1</td>\n",
       "      <td>0</td>\n",
       "      <td>1</td>\n",
       "      <td>0</td>\n",
       "      <td>2.20</td>\n",
       "    </tr>\n",
       "    <tr>\n",
       "      <th>4</th>\n",
       "      <td>6413</td>\n",
       "      <td>08-09</td>\n",
       "      <td>within an hour</td>\n",
       "      <td>100.0</td>\n",
       "      <td>t</td>\n",
       "      <td>1.0</td>\n",
       "      <td>1.0</td>\n",
       "      <td>8</td>\n",
       "      <td>t</td>\n",
       "      <td>f</td>\n",
       "      <td>...</td>\n",
       "      <td>10.0</td>\n",
       "      <td>t</td>\n",
       "      <td>strict_14_with_grace_period</td>\n",
       "      <td>f</td>\n",
       "      <td>f</td>\n",
       "      <td>1</td>\n",
       "      <td>1</td>\n",
       "      <td>0</td>\n",
       "      <td>0</td>\n",
       "      <td>0.84</td>\n",
       "    </tr>\n",
       "  </tbody>\n",
       "</table>\n",
       "<p>5 rows × 54 columns</p>\n",
       "</div>"
      ],
      "text/plain": [
       "     id host_since  host_response_time  host_response_rate host_is_superhost  \\\n",
       "0  2265      08-09  within a few hours               100.0                 t   \n",
       "1  5245      08-09  within a few hours               100.0                 t   \n",
       "2  5456      08-09      within an hour               100.0                 t   \n",
       "3  5769      08-09      within an hour               100.0                 t   \n",
       "4  6413      08-09      within an hour               100.0                 t   \n",
       "\n",
       "   host_listings_count  host_total_listings_count  host_verifications  \\\n",
       "0                  3.0                        3.0                   5   \n",
       "1                  3.0                        3.0                   5   \n",
       "2                  1.0                        1.0                   4   \n",
       "3                  1.0                        1.0                   6   \n",
       "4                  1.0                        1.0                   8   \n",
       "\n",
       "  host_has_profile_pic host_identity_verified  ... review_scores_value  \\\n",
       "0                    t                      t  ...                 9.0   \n",
       "1                    t                      t  ...                 9.0   \n",
       "2                    t                      t  ...                10.0   \n",
       "3                    t                      t  ...                10.0   \n",
       "4                    t                      f  ...                10.0   \n",
       "\n",
       "  instant_bookable          cancellation_policy  \\\n",
       "0                f  strict_14_with_grace_period   \n",
       "1                f  strict_14_with_grace_period   \n",
       "2                f  strict_14_with_grace_period   \n",
       "3                f                     moderate   \n",
       "4                t  strict_14_with_grace_period   \n",
       "\n",
       "   require_guest_profile_picture  require_guest_phone_verification  \\\n",
       "0                              f                                 f   \n",
       "1                              f                                 f   \n",
       "2                              f                                 t   \n",
       "3                              t                                 t   \n",
       "4                              f                                 f   \n",
       "\n",
       "   calculated_host_listings_count  \\\n",
       "0                               3   \n",
       "1                               3   \n",
       "2                               1   \n",
       "3                               1   \n",
       "4                               1   \n",
       "\n",
       "   calculated_host_listings_count_entire_homes  \\\n",
       "0                                            2   \n",
       "1                                            2   \n",
       "2                                            1   \n",
       "3                                            0   \n",
       "4                                            1   \n",
       "\n",
       "  calculated_host_listings_count_private_rooms  \\\n",
       "0                                            1   \n",
       "1                                            1   \n",
       "2                                            0   \n",
       "3                                            1   \n",
       "4                                            0   \n",
       "\n",
       "   calculated_host_listings_count_shared_rooms  reviews_per_month  \n",
       "0                                            0               0.19  \n",
       "1                                            0               0.07  \n",
       "2                                            0               3.89  \n",
       "3                                            0               2.20  \n",
       "4                                            0               0.84  \n",
       "\n",
       "[5 rows x 54 columns]"
      ]
     },
     "execution_count": 43,
     "metadata": {},
     "output_type": "execute_result"
    }
   ],
   "source": [
    "df.head()"
   ]
  },
  {
   "cell_type": "code",
   "execution_count": 44,
   "id": "971399a8",
   "metadata": {},
   "outputs": [
    {
     "data": {
      "text/plain": [
       "Index(['id', 'host_since', 'host_response_time', 'host_response_rate',\n",
       "       'host_is_superhost', 'host_listings_count', 'host_total_listings_count',\n",
       "       'host_verifications', 'host_has_profile_pic', 'host_identity_verified',\n",
       "       'is_location_exact', 'property_type', 'room_type', 'accommodates',\n",
       "       'bathrooms', 'bedrooms', 'beds', 'bed_type', 'amenities', 'price',\n",
       "       'security_deposit', 'cleaning_fee', 'guests_included', 'extra_people',\n",
       "       'minimum_nights', 'maximum_nights', 'minimum_minimum_nights',\n",
       "       'maximum_minimum_nights', 'minimum_maximum_nights',\n",
       "       'maximum_maximum_nights', 'minimum_nights_avg_ntm',\n",
       "       'maximum_nights_avg_ntm', 'availability_30', 'availability_60',\n",
       "       'availability_90', 'availability_365', 'number_of_reviews',\n",
       "       'number_of_reviews_ltm', 'review_scores_rating',\n",
       "       'review_scores_accuracy', 'review_scores_cleanliness',\n",
       "       'review_scores_checkin', 'review_scores_communication',\n",
       "       'review_scores_location', 'review_scores_value', 'instant_bookable',\n",
       "       'cancellation_policy', 'require_guest_profile_picture',\n",
       "       'require_guest_phone_verification', 'calculated_host_listings_count',\n",
       "       'calculated_host_listings_count_entire_homes',\n",
       "       'calculated_host_listings_count_private_rooms',\n",
       "       'calculated_host_listings_count_shared_rooms', 'reviews_per_month'],\n",
       "      dtype='object')"
      ]
     },
     "execution_count": 44,
     "metadata": {},
     "output_type": "execute_result"
    }
   ],
   "source": [
    "df.columns"
   ]
  },
  {
   "cell_type": "code",
   "execution_count": 45,
   "id": "dabab4c9",
   "metadata": {},
   "outputs": [
    {
     "data": {
      "text/plain": [
       "(11339, 54)"
      ]
     },
     "execution_count": 45,
     "metadata": {},
     "output_type": "execute_result"
    }
   ],
   "source": [
    "df.shape"
   ]
  },
  {
   "cell_type": "code",
   "execution_count": 46,
   "id": "d83c645a",
   "metadata": {},
   "outputs": [
    {
     "data": {
      "text/plain": [
       "33304"
      ]
     },
     "execution_count": 46,
     "metadata": {},
     "output_type": "execute_result"
    }
   ],
   "source": [
    "# Lastly, we check the number of missing values in our listing dataframe\n",
    "df.isna().sum().sum()"
   ]
  },
  {
   "cell_type": "code",
   "execution_count": 47,
   "id": "c3fe2d54",
   "metadata": {},
   "outputs": [
    {
     "data": {
      "image/png": "[encoded data removed]",
      "text/plain": [
       "<Figure size 432x288 with 1 Axes>"
      ]
     },
     "metadata": {
      "needs_background": "light"
     },
     "output_type": "display_data"
    }
   ],
   "source": [
    "# We plot another histogram to see if there is any clear outliers\n",
    "df_column_nan_2 = df.isna().mean().sort_values(ascending=False)*100\n",
    "# Histogram of amount of missing data\n",
    "plt.hist(df_column_nan_2)\n",
    "plt.xticks(np.arange(0,100,10), [str(x) for x in np.arange(0,100,10)])\n",
    "plt.xlabel('% of missing values')\n",
    "plt.ylabel('No. of columns');"
   ]
  },
  {
   "cell_type": "markdown",
   "id": "0df3527a",
   "metadata": {},
   "source": [
    "#### Comments:\n",
    "\n",
    "From the above histogram, we see that it is obvious we remove every column with more than say 18% of missing values."
   ]
  },
  {
   "cell_type": "code",
   "execution_count": 48,
   "id": "3d0eb896",
   "metadata": {},
   "outputs": [
    {
     "data": {
      "text/plain": [
       "Index(['host_response_time', 'host_response_rate', 'security_deposit',\n",
       "       'review_scores_location', 'review_scores_value',\n",
       "       'review_scores_checkin', 'review_scores_accuracy',\n",
       "       'review_scores_communication', 'review_scores_cleanliness',\n",
       "       'review_scores_rating', 'reviews_per_month', 'cleaning_fee'],\n",
       "      dtype='object')"
      ]
     },
     "execution_count": 48,
     "metadata": {},
     "output_type": "execute_result"
    }
   ],
   "source": [
    "removed_columns_4 = df_column_nan_2[df_column_nan_2 > 10].index\n",
    "removed_columns_4"
   ]
  },
  {
   "cell_type": "code",
   "execution_count": 49,
   "id": "f5eb8115",
   "metadata": {},
   "outputs": [],
   "source": [
    "df.drop(removed_columns_4, axis=1, inplace=True)"
   ]
  },
  {
   "cell_type": "code",
   "execution_count": 50,
   "id": "0ecbdc93",
   "metadata": {},
   "outputs": [
    {
     "data": {
      "text/plain": [
       "(11339, 42)"
      ]
     },
     "execution_count": 50,
     "metadata": {},
     "output_type": "execute_result"
    }
   ],
   "source": [
    "df.shape"
   ]
  },
  {
   "cell_type": "code",
   "execution_count": 51,
   "id": "2636b7bf",
   "metadata": {},
   "outputs": [
    {
     "data": {
      "text/plain": [
       "66"
      ]
     },
     "execution_count": 51,
     "metadata": {},
     "output_type": "execute_result"
    }
   ],
   "source": [
    "df.isna().sum().sum()"
   ]
  },
  {
   "cell_type": "code",
   "execution_count": 52,
   "id": "a01a7796",
   "metadata": {},
   "outputs": [
    {
     "data": {
      "text/plain": [
       "0"
      ]
     },
     "execution_count": 52,
     "metadata": {},
     "output_type": "execute_result"
    }
   ],
   "source": [
    "df['price'].isna().sum()"
   ]
  },
  {
   "cell_type": "markdown",
   "id": "ab76ad15",
   "metadata": {},
   "source": [
    "## Step 2: Answering of questions\n",
    "\n",
    "In this step, we use the data to give answers to the four questions we posed at the begin. "
   ]
  },
  {
   "cell_type": "markdown",
   "id": "8d3fbb82",
   "metadata": {},
   "source": [
    "### Question 1: Is there any seasonal variability in prices and room availability?\n",
    "\n",
    "Our first question was to see if there is any seasonal variability in room availability and price. Since room price vary significantly by room type. I thought it would make more sense to answer this question based on room type."
   ]
  },
  {
   "cell_type": "code",
   "execution_count": 53,
   "id": "95b19ff3",
   "metadata": {},
   "outputs": [],
   "source": [
    "df_listing = df"
   ]
  },
  {
   "cell_type": "code",
   "execution_count": 54,
   "id": "74f4e711",
   "metadata": {},
   "outputs": [
    {
     "data": {
      "text/plain": [
       "0"
      ]
     },
     "execution_count": 54,
     "metadata": {},
     "output_type": "execute_result"
    }
   ],
   "source": [
    "df_listing['room_type'].isna().sum()"
   ]
  },
  {
   "cell_type": "code",
   "execution_count": 55,
   "id": "06ab6d57",
   "metadata": {},
   "outputs": [],
   "source": [
    "listing_type = df_listing['room_type'].value_counts(normalize=True)*100"
   ]
  },
  {
   "cell_type": "code",
   "execution_count": 56,
   "id": "92b64385",
   "metadata": {},
   "outputs": [
    {
     "data": {
      "image/png": "[encoded data removed]",
      "text/plain": [
       "<Figure size 432x288 with 1 Axes>"
      ]
     },
     "metadata": {
      "needs_background": "light"
     },
     "output_type": "display_data"
    }
   ],
   "source": [
    "listing_type.plot(kind='barh');\n",
    "plt.title('Bar plot of Percentage of Room Type')\n",
    "plt.ylabel('Types of rooms listed')\n",
    "plt.xlabel('Percentage of room type');"
   ]
  },
  {
   "cell_type": "code",
   "execution_count": 57,
   "id": "ed461427",
   "metadata": {},
   "outputs": [],
   "source": [
    "# Get the listing id's of the different room types\n",
    "df_listing_entire_id = df_listing['id'][df_listing['room_type'] == 'Entire home/apt']\n",
    "df_listing_private_id = df_listing['id'][df_listing['room_type'] == 'Private room']\n",
    "df_listing_shared_id = df_listing['id'][df_listing['room_type'] == 'Shared room']\n",
    "df_listing_hotel_id = df_listing['id'][df_listing['room_type'] == 'Hotel room']"
   ]
  },
  {
   "cell_type": "code",
   "execution_count": 58,
   "id": "5606b21d",
   "metadata": {},
   "outputs": [],
   "source": [
    "# extra the calendar listings of each of the room type\n",
    "df_calendar_entire = df_calendar[df_calendar['listing_id'].isin(df_listing_entire_id)]\n",
    "df_calendar_private = df_calendar[df_calendar['listing_id'].isin(df_listing_private_id)]\n",
    "df_calendar_shared = df_calendar[df_calendar['listing_id'].isin(df_listing_shared_id)]\n",
    "df_calendar_hotel = df_calendar[df_calendar['listing_id'].isin(df_listing_hotel_id)]"
   ]
  },
  {
   "cell_type": "code",
   "execution_count": 59,
   "id": "cbb602c2",
   "metadata": {},
   "outputs": [],
   "source": [
    "# Percentage of available listings for \"entire home\"\n",
    "entire_avail_perc = df_calendar_entire.groupby('month')['available'].mean()*100"
   ]
  },
  {
   "cell_type": "code",
   "execution_count": 60,
   "id": "ff701224",
   "metadata": {},
   "outputs": [],
   "source": [
    "# Percentage of available listings for \"private room\"\n",
    "private_avail_perc = df_calendar_private.groupby('month')['available'].mean()*100"
   ]
  },
  {
   "cell_type": "code",
   "execution_count": 61,
   "id": "38eac4d2",
   "metadata": {},
   "outputs": [],
   "source": [
    "# Percentage of available listings for \"shared room\"\n",
    "shared_avail_perc = df_calendar_shared.groupby('month')['available'].mean()*100"
   ]
  },
  {
   "cell_type": "code",
   "execution_count": 62,
   "id": "88358db4",
   "metadata": {},
   "outputs": [],
   "source": [
    "# Percentage of available listings for \"hotel room\"\n",
    "hotel_avail_perc = df_calendar_hotel.groupby('month')['available'].mean()*100"
   ]
  },
  {
   "cell_type": "code",
   "execution_count": 217,
   "id": "3ec996be",
   "metadata": {},
   "outputs": [
    {
     "data": {
      "image/png": "[encoded data removed]",
      "text/plain": [
       "<Figure size 864x576 with 1 Axes>"
      ]
     },
     "metadata": {
      "needs_background": "light"
     },
     "output_type": "display_data"
    }
   ],
   "source": [
    "fig = plt.figure(10, figsize=(12,8))\n",
    "\n",
    "months = ['Jan', 'Feb', 'Mar', 'Apr', 'Jun', 'Jul', 'Aug', 'Sep', 'Oct', 'Nov', 'Dec']\n",
    "availability_entire = [entire_avail_perc[month] for month in months]\n",
    "availability_private = [private_avail_perc[month] for month in months]\n",
    "availability_shared = [shared_avail_perc[month] for month in months]\n",
    "availability_hotel = [hotel_avail_perc[month] for month in months]\n",
    "\n",
    "plt.plot(months, availability_entire, '*-', label='Entire Home')\n",
    "plt.plot(months, availability_private, '*-', label='Private Room')\n",
    "plt.plot(months, availability_shared, '*-', label='Shared Room')\n",
    "plt.plot(months, availability_hotel, '*-', label='Hotel Room')\n",
    "\n",
    "plt.xlabel('Months')\n",
    "plt.ylabel('Availability in %')\n",
    "plt.title(f'Plot of Room availability');\n",
    "plt.legend()\n",
    "plt.show()"
   ]
  },
  {
   "cell_type": "markdown",
   "id": "04121aaa",
   "metadata": {},
   "source": [
    "### Answer 1a and 2: \n",
    "\n",
    "From the figures shown above, we see that there is a seasonal variability in room availability in Austin. Room availability (for the four room types) is generally low in the months of April - September, whereas there is more availability of rooms in October - December. \n",
    "\n",
    "The busiest time to visit Austin will obviously be between April - September, as room availability is very low."
   ]
  },
  {
   "cell_type": "code",
   "execution_count": 66,
   "id": "0d5069bf",
   "metadata": {},
   "outputs": [],
   "source": [
    "# Average of price for different room types\n",
    "avg_price_entire = df_calendar_entire.groupby('month')['price'].mean()\n",
    "avg_price_private = df_calendar_private.groupby('month')['price'].mean()\n",
    "avg_price_shared = df_calendar_shared.groupby('month')['price'].mean()\n",
    "avg_price_hotel = df_calendar_hotel.groupby('month')['price'].mean()"
   ]
  },
  {
   "cell_type": "code",
   "execution_count": 67,
   "id": "2a922c1f",
   "metadata": {},
   "outputs": [],
   "source": [
    "# function to plot prices\n",
    "\n",
    "def plot_prices(df, type):\n",
    "    months = ['Jan', 'Feb', 'Mar', 'Apr', 'Jun', 'Jul', 'Aug', 'Sep', 'Oct', 'Nov', 'Dec']\n",
    "    availability = [df[month] for month in months]\n",
    "    plt.plot(months, availability, '*-b')\n",
    "    plt.xlabel('Months')\n",
    "    plt.ylabel('Average Price in $')\n",
    "    plt.title(f'Plot of {type} average price');"
   ]
  },
  {
   "cell_type": "code",
   "execution_count": 68,
   "id": "4d3d04c2",
   "metadata": {},
   "outputs": [
    {
     "data": {
      "image/png": "[encoded data removed]",
      "text/plain": [
       "<Figure size 864x288 with 2 Axes>"
      ]
     },
     "metadata": {
      "needs_background": "light"
     },
     "output_type": "display_data"
    }
   ],
   "source": [
    "fig = plt.figure(10, figsize=(12,4))\n",
    "\n",
    "ax1 = fig.add_subplot(121)\n",
    "plot_prices(avg_price_entire, 'Entire Home')\n",
    "\n",
    "ax2 = fig.add_subplot(122)\n",
    "plot_prices(avg_price_private, 'Private Room')\n",
    "\n"
   ]
  },
  {
   "cell_type": "code",
   "execution_count": 69,
   "id": "b53691c5",
   "metadata": {},
   "outputs": [
    {
     "data": {
      "image/png": "[encoded data removed]",
      "text/plain": [
       "<Figure size 864x288 with 2 Axes>"
      ]
     },
     "metadata": {
      "needs_background": "light"
     },
     "output_type": "display_data"
    }
   ],
   "source": [
    "fig = plt.figure(10, figsize=(12,4))\n",
    "\n",
    "ax3 = fig.add_subplot(121)\n",
    "plot_prices(avg_price_shared, 'Shared Room')\n",
    "\n",
    "ax4 = fig.add_subplot(122)\n",
    "plot_prices(avg_price_hotel, 'Hotel Room')"
   ]
  },
  {
   "cell_type": "markdown",
   "id": "3598a1bd",
   "metadata": {},
   "source": [
    "### Answer 1b: \n",
    "\n",
    "There isnt much variability in the price for *Private Rooms* and *Shared Rooms*, as we can see from the plot that the difference between the maximum and minimum average prices arent significant. \n",
    "\n",
    "For Entire homes, prices are usually high between April and August, and lowest in January, February, October - December, whereas for Hotel Room, proces are high in March and lowest in September."
   ]
  },
  {
   "cell_type": "markdown",
   "id": "d145186e",
   "metadata": {},
   "source": [
    "### Question 2:\n",
    "\n",
    "We can answer question 2 using a different analysis. We can plot a bar chat of the number of listings available in each month using the `df_calendar` dataframe."
   ]
  },
  {
   "cell_type": "code",
   "execution_count": 70,
   "id": "d2249743",
   "metadata": {},
   "outputs": [],
   "source": [
    "# Groupby \"months\", and then count the number of availability\n",
    "month_availability = df_calendar.groupby('month')['available'].sum()"
   ]
  },
  {
   "cell_type": "code",
   "execution_count": 222,
   "id": "25db790d",
   "metadata": {},
   "outputs": [
    {
     "data": {
      "image/png": "[encoded data removed]",
      "text/plain": [
       "<Figure size 432x288 with 1 Axes>"
      ]
     },
     "metadata": {
      "needs_background": "light"
     },
     "output_type": "display_data"
    }
   ],
   "source": [
    "month_availability.plot(kind='bar', sort_columns=True);\n",
    "plt.title('Bar plot of number of availability of rooms per month')\n",
    "plt.ylabel('Number of calendar listings')\n",
    "plt.xlabel('Months');"
   ]
  },
  {
   "cell_type": "code",
   "execution_count": 72,
   "id": "1b8a788e",
   "metadata": {},
   "outputs": [
    {
     "data": {
      "text/plain": [
       "month\n",
       "Apr    106350\n",
       "Aug    103174\n",
       "Dec    164602\n",
       "Feb    140681\n",
       "Jan    151180\n",
       "Jul    103761\n",
       "Jun    105157\n",
       "Mar    131456\n",
       "May    111717\n",
       "Nov    149007\n",
       "Oct    130773\n",
       "Sep     94373\n",
       "Name: available, dtype: int64"
      ]
     },
     "execution_count": 72,
     "metadata": {},
     "output_type": "execute_result"
    }
   ],
   "source": [
    "month_availability"
   ]
  },
  {
   "cell_type": "code",
   "execution_count": 73,
   "id": "ff8f455c",
   "metadata": {},
   "outputs": [
    {
     "data": {
      "text/plain": [
       "Index(['Aug', 'Jul', 'Sep'], dtype='object', name='month')"
      ]
     },
     "execution_count": 73,
     "metadata": {},
     "output_type": "execute_result"
    }
   ],
   "source": [
    "month_availability[month_availability < 105000].index"
   ]
  },
  {
   "cell_type": "markdown",
   "id": "f579c72e",
   "metadata": {},
   "source": [
    "### Answer 2:\n",
    "\n",
    "From these we see that it is very busy to visit Austin in **April**, **July** and **September**."
   ]
  },
  {
   "cell_type": "markdown",
   "id": "79ebab76",
   "metadata": {},
   "source": [
    "### Question 3:\n",
    "\n",
    "We use heatmap and correlation to see properties that are associated with high prices."
   ]
  },
  {
   "cell_type": "code",
   "execution_count": 74,
   "id": "9f9259d0",
   "metadata": {},
   "outputs": [
    {
     "data": {
      "image/png": "[encoded data removed]",
      "text/plain": [
       "<Figure size 432x288 with 2 Axes>"
      ]
     },
     "metadata": {
      "needs_background": "light"
     },
     "output_type": "display_data"
    }
   ],
   "source": [
    "import seaborn as sns\n",
    "\n",
    "sns.heatmap(df_listing.corr());"
   ]
  },
  {
   "cell_type": "markdown",
   "id": "f32b8677",
   "metadata": {},
   "source": [
    "### Comments:\n",
    "\n",
    "For some weired reasons, heatmap didnt show the correlation between all continuous columns. So in the next column, I select the column that pertains to correlation with price and sort in descending order."
   ]
  },
  {
   "cell_type": "code",
   "execution_count": 75,
   "id": "65a6a4bc",
   "metadata": {},
   "outputs": [
    {
     "data": {
      "text/plain": [
       "price                                           1.000000\n",
       "calculated_host_listings_count_entire_homes     0.450575\n",
       "calculated_host_listings_count                  0.428560\n",
       "bathrooms                                       0.225785\n",
       "accommodates                                    0.221489\n",
       "bedrooms                                        0.192215\n",
       "availability_60                                 0.188742\n",
       "host_listings_count                             0.187700\n",
       "host_total_listings_count                       0.187700\n",
       "availability_30                                 0.178892\n",
       "beds                                            0.178774\n",
       "availability_90                                 0.176070\n",
       "host_verifications                              0.136990\n",
       "guests_included                                 0.133505\n",
       "availability_365                                0.114837\n",
       "id                                              0.102770\n",
       "amenities                                       0.041944\n",
       "maximum_minimum_nights                          0.032450\n",
       "minimum_nights_avg_ntm                          0.018750\n",
       "minimum_minimum_nights                          0.015921\n",
       "minimum_nights                                  0.015780\n",
       "minimum_maximum_nights                         -0.002125\n",
       "maximum_nights_avg_ntm                         -0.002125\n",
       "maximum_maximum_nights                         -0.002126\n",
       "maximum_nights                                 -0.002126\n",
       "calculated_host_listings_count_shared_rooms    -0.028359\n",
       "extra_people                                   -0.033340\n",
       "number_of_reviews_ltm                          -0.050238\n",
       "calculated_host_listings_count_private_rooms   -0.069154\n",
       "number_of_reviews                              -0.076232\n",
       "Name: price, dtype: float64"
      ]
     },
     "execution_count": 75,
     "metadata": {},
     "output_type": "execute_result"
    }
   ],
   "source": [
    "df_listing.corr()['price'].sort_values(ascending=False)"
   ]
  },
  {
   "cell_type": "markdown",
   "id": "bf8a0344",
   "metadata": {},
   "source": [
    "### Answer 3:\n",
    "\n",
    "From the above, we see that `calculated_host_listings_count_entire_homes`, `calculated_host_listings_count`, `bathrooms` and `accommodates` have more than 20% correlation with the price of a listing.\n",
    "\n",
    "Note that when we use `.corr`, it neglects the categorical features. So the above analysis is for the featuures among the continuous ones that relate to high prices."
   ]
  },
  {
   "cell_type": "markdown",
   "id": "87d68b5c",
   "metadata": {},
   "source": [
    "### Question 4:\n",
    "\n",
    "In this last question, we try to see if we can predict the price of an airbnb rental using the listing column. To do this, we create a function that will help to clean up the data and do the prediction using linear regression."
   ]
  },
  {
   "cell_type": "code",
   "execution_count": 76,
   "id": "452f649f",
   "metadata": {},
   "outputs": [
    {
     "data": {
      "text/plain": [
       "Index(['id', 'host_since', 'host_is_superhost', 'host_listings_count',\n",
       "       'host_total_listings_count', 'host_verifications',\n",
       "       'host_has_profile_pic', 'host_identity_verified', 'is_location_exact',\n",
       "       'property_type', 'room_type', 'accommodates', 'bathrooms', 'bedrooms',\n",
       "       'beds', 'bed_type', 'amenities', 'price', 'guests_included',\n",
       "       'extra_people', 'minimum_nights', 'maximum_nights',\n",
       "       'minimum_minimum_nights', 'maximum_minimum_nights',\n",
       "       'minimum_maximum_nights', 'maximum_maximum_nights',\n",
       "       'minimum_nights_avg_ntm', 'maximum_nights_avg_ntm', 'availability_30',\n",
       "       'availability_60', 'availability_90', 'availability_365',\n",
       "       'number_of_reviews', 'number_of_reviews_ltm', 'instant_bookable',\n",
       "       'cancellation_policy', 'require_guest_profile_picture',\n",
       "       'require_guest_phone_verification', 'calculated_host_listings_count',\n",
       "       'calculated_host_listings_count_entire_homes',\n",
       "       'calculated_host_listings_count_private_rooms',\n",
       "       'calculated_host_listings_count_shared_rooms'],\n",
       "      dtype='object')"
      ]
     },
     "execution_count": 76,
     "metadata": {},
     "output_type": "execute_result"
    }
   ],
   "source": [
    "df_listing.columns"
   ]
  },
  {
   "cell_type": "code",
   "execution_count": 77,
   "id": "b8d79d5f",
   "metadata": {},
   "outputs": [
    {
     "data": {
      "text/html": [
       "<div>\n",
       "<style scoped>\n",
       "    .dataframe tbody tr th:only-of-type {\n",
       "        vertical-align: middle;\n",
       "    }\n",
       "\n",
       "    .dataframe tbody tr th {\n",
       "        vertical-align: top;\n",
       "    }\n",
       "\n",
       "    .dataframe thead th {\n",
       "        text-align: right;\n",
       "    }\n",
       "</style>\n",
       "<table border=\"1\" class=\"dataframe\">\n",
       "  <thead>\n",
       "    <tr style=\"text-align: right;\">\n",
       "      <th></th>\n",
       "      <th>host_since</th>\n",
       "      <th>host_is_superhost</th>\n",
       "      <th>host_has_profile_pic</th>\n",
       "      <th>host_identity_verified</th>\n",
       "      <th>is_location_exact</th>\n",
       "      <th>property_type</th>\n",
       "      <th>room_type</th>\n",
       "      <th>bed_type</th>\n",
       "      <th>instant_bookable</th>\n",
       "      <th>cancellation_policy</th>\n",
       "      <th>require_guest_profile_picture</th>\n",
       "      <th>require_guest_phone_verification</th>\n",
       "    </tr>\n",
       "  </thead>\n",
       "  <tbody>\n",
       "    <tr>\n",
       "      <th>0</th>\n",
       "      <td>08-09</td>\n",
       "      <td>t</td>\n",
       "      <td>t</td>\n",
       "      <td>t</td>\n",
       "      <td>f</td>\n",
       "      <td>House</td>\n",
       "      <td>Entire home/apt</td>\n",
       "      <td>Real Bed</td>\n",
       "      <td>f</td>\n",
       "      <td>strict_14_with_grace_period</td>\n",
       "      <td>f</td>\n",
       "      <td>f</td>\n",
       "    </tr>\n",
       "    <tr>\n",
       "      <th>1</th>\n",
       "      <td>08-09</td>\n",
       "      <td>t</td>\n",
       "      <td>t</td>\n",
       "      <td>t</td>\n",
       "      <td>t</td>\n",
       "      <td>House</td>\n",
       "      <td>Private room</td>\n",
       "      <td>Real Bed</td>\n",
       "      <td>f</td>\n",
       "      <td>strict_14_with_grace_period</td>\n",
       "      <td>f</td>\n",
       "      <td>f</td>\n",
       "    </tr>\n",
       "    <tr>\n",
       "      <th>2</th>\n",
       "      <td>08-09</td>\n",
       "      <td>t</td>\n",
       "      <td>t</td>\n",
       "      <td>t</td>\n",
       "      <td>t</td>\n",
       "      <td>House</td>\n",
       "      <td>Entire home/apt</td>\n",
       "      <td>Real Bed</td>\n",
       "      <td>f</td>\n",
       "      <td>strict_14_with_grace_period</td>\n",
       "      <td>f</td>\n",
       "      <td>t</td>\n",
       "    </tr>\n",
       "    <tr>\n",
       "      <th>3</th>\n",
       "      <td>08-09</td>\n",
       "      <td>t</td>\n",
       "      <td>t</td>\n",
       "      <td>t</td>\n",
       "      <td>t</td>\n",
       "      <td>House</td>\n",
       "      <td>Private room</td>\n",
       "      <td>Real Bed</td>\n",
       "      <td>f</td>\n",
       "      <td>moderate</td>\n",
       "      <td>t</td>\n",
       "      <td>t</td>\n",
       "    </tr>\n",
       "    <tr>\n",
       "      <th>4</th>\n",
       "      <td>08-09</td>\n",
       "      <td>t</td>\n",
       "      <td>t</td>\n",
       "      <td>f</td>\n",
       "      <td>t</td>\n",
       "      <td>House</td>\n",
       "      <td>Entire home/apt</td>\n",
       "      <td>Real Bed</td>\n",
       "      <td>t</td>\n",
       "      <td>strict_14_with_grace_period</td>\n",
       "      <td>f</td>\n",
       "      <td>f</td>\n",
       "    </tr>\n",
       "    <tr>\n",
       "      <th>...</th>\n",
       "      <td>...</td>\n",
       "      <td>...</td>\n",
       "      <td>...</td>\n",
       "      <td>...</td>\n",
       "      <td>...</td>\n",
       "      <td>...</td>\n",
       "      <td>...</td>\n",
       "      <td>...</td>\n",
       "      <td>...</td>\n",
       "      <td>...</td>\n",
       "      <td>...</td>\n",
       "      <td>...</td>\n",
       "    </tr>\n",
       "    <tr>\n",
       "      <th>11334</th>\n",
       "      <td>16-17</td>\n",
       "      <td>f</td>\n",
       "      <td>t</td>\n",
       "      <td>f</td>\n",
       "      <td>t</td>\n",
       "      <td>Apartment</td>\n",
       "      <td>Entire home/apt</td>\n",
       "      <td>Real Bed</td>\n",
       "      <td>f</td>\n",
       "      <td>flexible</td>\n",
       "      <td>f</td>\n",
       "      <td>f</td>\n",
       "    </tr>\n",
       "    <tr>\n",
       "      <th>11335</th>\n",
       "      <td>14-15</td>\n",
       "      <td>f</td>\n",
       "      <td>t</td>\n",
       "      <td>f</td>\n",
       "      <td>f</td>\n",
       "      <td>Apartment</td>\n",
       "      <td>Entire home/apt</td>\n",
       "      <td>Real Bed</td>\n",
       "      <td>f</td>\n",
       "      <td>flexible</td>\n",
       "      <td>f</td>\n",
       "      <td>f</td>\n",
       "    </tr>\n",
       "    <tr>\n",
       "      <th>11336</th>\n",
       "      <td>18-19</td>\n",
       "      <td>f</td>\n",
       "      <td>t</td>\n",
       "      <td>f</td>\n",
       "      <td>f</td>\n",
       "      <td>Apartment</td>\n",
       "      <td>Private room</td>\n",
       "      <td>Real Bed</td>\n",
       "      <td>t</td>\n",
       "      <td>flexible</td>\n",
       "      <td>f</td>\n",
       "      <td>f</td>\n",
       "    </tr>\n",
       "    <tr>\n",
       "      <th>11337</th>\n",
       "      <td>14-15</td>\n",
       "      <td>t</td>\n",
       "      <td>t</td>\n",
       "      <td>f</td>\n",
       "      <td>t</td>\n",
       "      <td>House</td>\n",
       "      <td>Entire home/apt</td>\n",
       "      <td>Real Bed</td>\n",
       "      <td>t</td>\n",
       "      <td>flexible</td>\n",
       "      <td>f</td>\n",
       "      <td>f</td>\n",
       "    </tr>\n",
       "    <tr>\n",
       "      <th>11338</th>\n",
       "      <td>18-19</td>\n",
       "      <td>f</td>\n",
       "      <td>t</td>\n",
       "      <td>t</td>\n",
       "      <td>t</td>\n",
       "      <td>House</td>\n",
       "      <td>Private room</td>\n",
       "      <td>Real Bed</td>\n",
       "      <td>f</td>\n",
       "      <td>flexible</td>\n",
       "      <td>f</td>\n",
       "      <td>f</td>\n",
       "    </tr>\n",
       "  </tbody>\n",
       "</table>\n",
       "<p>11339 rows × 12 columns</p>\n",
       "</div>"
      ],
      "text/plain": [
       "      host_since host_is_superhost host_has_profile_pic  \\\n",
       "0          08-09                 t                    t   \n",
       "1          08-09                 t                    t   \n",
       "2          08-09                 t                    t   \n",
       "3          08-09                 t                    t   \n",
       "4          08-09                 t                    t   \n",
       "...          ...               ...                  ...   \n",
       "11334      16-17                 f                    t   \n",
       "11335      14-15                 f                    t   \n",
       "11336      18-19                 f                    t   \n",
       "11337      14-15                 t                    t   \n",
       "11338      18-19                 f                    t   \n",
       "\n",
       "      host_identity_verified is_location_exact property_type        room_type  \\\n",
       "0                          t                 f         House  Entire home/apt   \n",
       "1                          t                 t         House     Private room   \n",
       "2                          t                 t         House  Entire home/apt   \n",
       "3                          t                 t         House     Private room   \n",
       "4                          f                 t         House  Entire home/apt   \n",
       "...                      ...               ...           ...              ...   \n",
       "11334                      f                 t     Apartment  Entire home/apt   \n",
       "11335                      f                 f     Apartment  Entire home/apt   \n",
       "11336                      f                 f     Apartment     Private room   \n",
       "11337                      f                 t         House  Entire home/apt   \n",
       "11338                      t                 t         House     Private room   \n",
       "\n",
       "       bed_type instant_bookable          cancellation_policy  \\\n",
       "0      Real Bed                f  strict_14_with_grace_period   \n",
       "1      Real Bed                f  strict_14_with_grace_period   \n",
       "2      Real Bed                f  strict_14_with_grace_period   \n",
       "3      Real Bed                f                     moderate   \n",
       "4      Real Bed                t  strict_14_with_grace_period   \n",
       "...         ...              ...                          ...   \n",
       "11334  Real Bed                f                     flexible   \n",
       "11335  Real Bed                f                     flexible   \n",
       "11336  Real Bed                t                     flexible   \n",
       "11337  Real Bed                t                     flexible   \n",
       "11338  Real Bed                f                     flexible   \n",
       "\n",
       "      require_guest_profile_picture require_guest_phone_verification  \n",
       "0                                 f                                f  \n",
       "1                                 f                                f  \n",
       "2                                 f                                t  \n",
       "3                                 t                                t  \n",
       "4                                 f                                f  \n",
       "...                             ...                              ...  \n",
       "11334                             f                                f  \n",
       "11335                             f                                f  \n",
       "11336                             f                                f  \n",
       "11337                             f                                f  \n",
       "11338                             f                                f  \n",
       "\n",
       "[11339 rows x 12 columns]"
      ]
     },
     "execution_count": 77,
     "metadata": {},
     "output_type": "execute_result"
    }
   ],
   "source": [
    "df_listing.select_dtypes(include=['object'])"
   ]
  },
  {
   "cell_type": "code",
   "execution_count": 78,
   "id": "f46b67ec",
   "metadata": {},
   "outputs": [
    {
     "data": {
      "text/html": [
       "<div>\n",
       "<style scoped>\n",
       "    .dataframe tbody tr th:only-of-type {\n",
       "        vertical-align: middle;\n",
       "    }\n",
       "\n",
       "    .dataframe tbody tr th {\n",
       "        vertical-align: top;\n",
       "    }\n",
       "\n",
       "    .dataframe thead th {\n",
       "        text-align: right;\n",
       "    }\n",
       "</style>\n",
       "<table border=\"1\" class=\"dataframe\">\n",
       "  <thead>\n",
       "    <tr style=\"text-align: right;\">\n",
       "      <th></th>\n",
       "      <th>id</th>\n",
       "      <th>host_listings_count</th>\n",
       "      <th>host_total_listings_count</th>\n",
       "      <th>host_verifications</th>\n",
       "      <th>accommodates</th>\n",
       "      <th>bathrooms</th>\n",
       "      <th>bedrooms</th>\n",
       "      <th>beds</th>\n",
       "      <th>amenities</th>\n",
       "      <th>price</th>\n",
       "      <th>...</th>\n",
       "      <th>availability_30</th>\n",
       "      <th>availability_60</th>\n",
       "      <th>availability_90</th>\n",
       "      <th>availability_365</th>\n",
       "      <th>number_of_reviews</th>\n",
       "      <th>number_of_reviews_ltm</th>\n",
       "      <th>calculated_host_listings_count</th>\n",
       "      <th>calculated_host_listings_count_entire_homes</th>\n",
       "      <th>calculated_host_listings_count_private_rooms</th>\n",
       "      <th>calculated_host_listings_count_shared_rooms</th>\n",
       "    </tr>\n",
       "  </thead>\n",
       "  <tbody>\n",
       "    <tr>\n",
       "      <th>0</th>\n",
       "      <td>2265</td>\n",
       "      <td>3.0</td>\n",
       "      <td>3.0</td>\n",
       "      <td>5</td>\n",
       "      <td>4</td>\n",
       "      <td>2.0</td>\n",
       "      <td>2.0</td>\n",
       "      <td>2.0</td>\n",
       "      <td>38</td>\n",
       "      <td>225.0</td>\n",
       "      <td>...</td>\n",
       "      <td>0</td>\n",
       "      <td>0</td>\n",
       "      <td>0</td>\n",
       "      <td>0</td>\n",
       "      <td>24</td>\n",
       "      <td>1</td>\n",
       "      <td>3</td>\n",
       "      <td>2</td>\n",
       "      <td>1</td>\n",
       "      <td>0</td>\n",
       "    </tr>\n",
       "    <tr>\n",
       "      <th>1</th>\n",
       "      <td>5245</td>\n",
       "      <td>3.0</td>\n",
       "      <td>3.0</td>\n",
       "      <td>5</td>\n",
       "      <td>2</td>\n",
       "      <td>1.0</td>\n",
       "      <td>1.0</td>\n",
       "      <td>2.0</td>\n",
       "      <td>27</td>\n",
       "      <td>100.0</td>\n",
       "      <td>...</td>\n",
       "      <td>11</td>\n",
       "      <td>11</td>\n",
       "      <td>11</td>\n",
       "      <td>11</td>\n",
       "      <td>9</td>\n",
       "      <td>0</td>\n",
       "      <td>3</td>\n",
       "      <td>2</td>\n",
       "      <td>1</td>\n",
       "      <td>0</td>\n",
       "    </tr>\n",
       "    <tr>\n",
       "      <th>2</th>\n",
       "      <td>5456</td>\n",
       "      <td>1.0</td>\n",
       "      <td>1.0</td>\n",
       "      <td>4</td>\n",
       "      <td>3</td>\n",
       "      <td>1.0</td>\n",
       "      <td>1.0</td>\n",
       "      <td>2.0</td>\n",
       "      <td>29</td>\n",
       "      <td>95.0</td>\n",
       "      <td>...</td>\n",
       "      <td>2</td>\n",
       "      <td>11</td>\n",
       "      <td>35</td>\n",
       "      <td>291</td>\n",
       "      <td>499</td>\n",
       "      <td>46</td>\n",
       "      <td>1</td>\n",
       "      <td>1</td>\n",
       "      <td>0</td>\n",
       "      <td>0</td>\n",
       "    </tr>\n",
       "    <tr>\n",
       "      <th>3</th>\n",
       "      <td>5769</td>\n",
       "      <td>1.0</td>\n",
       "      <td>1.0</td>\n",
       "      <td>6</td>\n",
       "      <td>2</td>\n",
       "      <td>1.0</td>\n",
       "      <td>1.0</td>\n",
       "      <td>1.0</td>\n",
       "      <td>22</td>\n",
       "      <td>40.0</td>\n",
       "      <td>...</td>\n",
       "      <td>6</td>\n",
       "      <td>6</td>\n",
       "      <td>13</td>\n",
       "      <td>13</td>\n",
       "      <td>253</td>\n",
       "      <td>16</td>\n",
       "      <td>1</td>\n",
       "      <td>0</td>\n",
       "      <td>1</td>\n",
       "      <td>0</td>\n",
       "    </tr>\n",
       "    <tr>\n",
       "      <th>4</th>\n",
       "      <td>6413</td>\n",
       "      <td>1.0</td>\n",
       "      <td>1.0</td>\n",
       "      <td>8</td>\n",
       "      <td>2</td>\n",
       "      <td>1.0</td>\n",
       "      <td>NaN</td>\n",
       "      <td>1.0</td>\n",
       "      <td>22</td>\n",
       "      <td>99.0</td>\n",
       "      <td>...</td>\n",
       "      <td>0</td>\n",
       "      <td>0</td>\n",
       "      <td>0</td>\n",
       "      <td>0</td>\n",
       "      <td>100</td>\n",
       "      <td>23</td>\n",
       "      <td>1</td>\n",
       "      <td>1</td>\n",
       "      <td>0</td>\n",
       "      <td>0</td>\n",
       "    </tr>\n",
       "    <tr>\n",
       "      <th>...</th>\n",
       "      <td>...</td>\n",
       "      <td>...</td>\n",
       "      <td>...</td>\n",
       "      <td>...</td>\n",
       "      <td>...</td>\n",
       "      <td>...</td>\n",
       "      <td>...</td>\n",
       "      <td>...</td>\n",
       "      <td>...</td>\n",
       "      <td>...</td>\n",
       "      <td>...</td>\n",
       "      <td>...</td>\n",
       "      <td>...</td>\n",
       "      <td>...</td>\n",
       "      <td>...</td>\n",
       "      <td>...</td>\n",
       "      <td>...</td>\n",
       "      <td>...</td>\n",
       "      <td>...</td>\n",
       "      <td>...</td>\n",
       "      <td>...</td>\n",
       "    </tr>\n",
       "    <tr>\n",
       "      <th>11334</th>\n",
       "      <td>38726612</td>\n",
       "      <td>2.0</td>\n",
       "      <td>2.0</td>\n",
       "      <td>2</td>\n",
       "      <td>8</td>\n",
       "      <td>2.0</td>\n",
       "      <td>2.0</td>\n",
       "      <td>4.0</td>\n",
       "      <td>20</td>\n",
       "      <td>400.0</td>\n",
       "      <td>...</td>\n",
       "      <td>14</td>\n",
       "      <td>44</td>\n",
       "      <td>74</td>\n",
       "      <td>74</td>\n",
       "      <td>0</td>\n",
       "      <td>0</td>\n",
       "      <td>2</td>\n",
       "      <td>2</td>\n",
       "      <td>0</td>\n",
       "      <td>0</td>\n",
       "    </tr>\n",
       "    <tr>\n",
       "      <th>11335</th>\n",
       "      <td>38727516</td>\n",
       "      <td>1.0</td>\n",
       "      <td>1.0</td>\n",
       "      <td>2</td>\n",
       "      <td>2</td>\n",
       "      <td>1.0</td>\n",
       "      <td>1.0</td>\n",
       "      <td>1.0</td>\n",
       "      <td>20</td>\n",
       "      <td>55.0</td>\n",
       "      <td>...</td>\n",
       "      <td>24</td>\n",
       "      <td>54</td>\n",
       "      <td>84</td>\n",
       "      <td>359</td>\n",
       "      <td>1</td>\n",
       "      <td>1</td>\n",
       "      <td>1</td>\n",
       "      <td>1</td>\n",
       "      <td>0</td>\n",
       "      <td>0</td>\n",
       "    </tr>\n",
       "    <tr>\n",
       "      <th>11336</th>\n",
       "      <td>38728146</td>\n",
       "      <td>1.0</td>\n",
       "      <td>1.0</td>\n",
       "      <td>2</td>\n",
       "      <td>2</td>\n",
       "      <td>1.0</td>\n",
       "      <td>1.0</td>\n",
       "      <td>1.0</td>\n",
       "      <td>14</td>\n",
       "      <td>50.0</td>\n",
       "      <td>...</td>\n",
       "      <td>11</td>\n",
       "      <td>11</td>\n",
       "      <td>11</td>\n",
       "      <td>11</td>\n",
       "      <td>0</td>\n",
       "      <td>0</td>\n",
       "      <td>1</td>\n",
       "      <td>0</td>\n",
       "      <td>1</td>\n",
       "      <td>0</td>\n",
       "    </tr>\n",
       "    <tr>\n",
       "      <th>11337</th>\n",
       "      <td>38728874</td>\n",
       "      <td>1.0</td>\n",
       "      <td>1.0</td>\n",
       "      <td>4</td>\n",
       "      <td>2</td>\n",
       "      <td>1.0</td>\n",
       "      <td>1.0</td>\n",
       "      <td>1.0</td>\n",
       "      <td>29</td>\n",
       "      <td>455.0</td>\n",
       "      <td>...</td>\n",
       "      <td>10</td>\n",
       "      <td>10</td>\n",
       "      <td>11</td>\n",
       "      <td>11</td>\n",
       "      <td>0</td>\n",
       "      <td>0</td>\n",
       "      <td>3</td>\n",
       "      <td>2</td>\n",
       "      <td>1</td>\n",
       "      <td>0</td>\n",
       "    </tr>\n",
       "    <tr>\n",
       "      <th>11338</th>\n",
       "      <td>38732317</td>\n",
       "      <td>1.0</td>\n",
       "      <td>1.0</td>\n",
       "      <td>4</td>\n",
       "      <td>2</td>\n",
       "      <td>1.0</td>\n",
       "      <td>1.0</td>\n",
       "      <td>1.0</td>\n",
       "      <td>24</td>\n",
       "      <td>43.0</td>\n",
       "      <td>...</td>\n",
       "      <td>28</td>\n",
       "      <td>58</td>\n",
       "      <td>88</td>\n",
       "      <td>363</td>\n",
       "      <td>0</td>\n",
       "      <td>0</td>\n",
       "      <td>1</td>\n",
       "      <td>0</td>\n",
       "      <td>1</td>\n",
       "      <td>0</td>\n",
       "    </tr>\n",
       "  </tbody>\n",
       "</table>\n",
       "<p>11339 rows × 30 columns</p>\n",
       "</div>"
      ],
      "text/plain": [
       "             id  host_listings_count  host_total_listings_count  \\\n",
       "0          2265                  3.0                        3.0   \n",
       "1          5245                  3.0                        3.0   \n",
       "2          5456                  1.0                        1.0   \n",
       "3          5769                  1.0                        1.0   \n",
       "4          6413                  1.0                        1.0   \n",
       "...         ...                  ...                        ...   \n",
       "11334  38726612                  2.0                        2.0   \n",
       "11335  38727516                  1.0                        1.0   \n",
       "11336  38728146                  1.0                        1.0   \n",
       "11337  38728874                  1.0                        1.0   \n",
       "11338  38732317                  1.0                        1.0   \n",
       "\n",
       "       host_verifications  accommodates  bathrooms  bedrooms  beds  amenities  \\\n",
       "0                       5             4        2.0       2.0   2.0         38   \n",
       "1                       5             2        1.0       1.0   2.0         27   \n",
       "2                       4             3        1.0       1.0   2.0         29   \n",
       "3                       6             2        1.0       1.0   1.0         22   \n",
       "4                       8             2        1.0       NaN   1.0         22   \n",
       "...                   ...           ...        ...       ...   ...        ...   \n",
       "11334                   2             8        2.0       2.0   4.0         20   \n",
       "11335                   2             2        1.0       1.0   1.0         20   \n",
       "11336                   2             2        1.0       1.0   1.0         14   \n",
       "11337                   4             2        1.0       1.0   1.0         29   \n",
       "11338                   4             2        1.0       1.0   1.0         24   \n",
       "\n",
       "       price  ...  availability_30  availability_60  availability_90  \\\n",
       "0      225.0  ...                0                0                0   \n",
       "1      100.0  ...               11               11               11   \n",
       "2       95.0  ...                2               11               35   \n",
       "3       40.0  ...                6                6               13   \n",
       "4       99.0  ...                0                0                0   \n",
       "...      ...  ...              ...              ...              ...   \n",
       "11334  400.0  ...               14               44               74   \n",
       "11335   55.0  ...               24               54               84   \n",
       "11336   50.0  ...               11               11               11   \n",
       "11337  455.0  ...               10               10               11   \n",
       "11338   43.0  ...               28               58               88   \n",
       "\n",
       "       availability_365  number_of_reviews  number_of_reviews_ltm  \\\n",
       "0                     0                 24                      1   \n",
       "1                    11                  9                      0   \n",
       "2                   291                499                     46   \n",
       "3                    13                253                     16   \n",
       "4                     0                100                     23   \n",
       "...                 ...                ...                    ...   \n",
       "11334                74                  0                      0   \n",
       "11335               359                  1                      1   \n",
       "11336                11                  0                      0   \n",
       "11337                11                  0                      0   \n",
       "11338               363                  0                      0   \n",
       "\n",
       "       calculated_host_listings_count  \\\n",
       "0                                   3   \n",
       "1                                   3   \n",
       "2                                   1   \n",
       "3                                   1   \n",
       "4                                   1   \n",
       "...                               ...   \n",
       "11334                               2   \n",
       "11335                               1   \n",
       "11336                               1   \n",
       "11337                               3   \n",
       "11338                               1   \n",
       "\n",
       "       calculated_host_listings_count_entire_homes  \\\n",
       "0                                                2   \n",
       "1                                                2   \n",
       "2                                                1   \n",
       "3                                                0   \n",
       "4                                                1   \n",
       "...                                            ...   \n",
       "11334                                            2   \n",
       "11335                                            1   \n",
       "11336                                            0   \n",
       "11337                                            2   \n",
       "11338                                            0   \n",
       "\n",
       "       calculated_host_listings_count_private_rooms  \\\n",
       "0                                                 1   \n",
       "1                                                 1   \n",
       "2                                                 0   \n",
       "3                                                 1   \n",
       "4                                                 0   \n",
       "...                                             ...   \n",
       "11334                                             0   \n",
       "11335                                             0   \n",
       "11336                                             1   \n",
       "11337                                             1   \n",
       "11338                                             1   \n",
       "\n",
       "       calculated_host_listings_count_shared_rooms  \n",
       "0                                                0  \n",
       "1                                                0  \n",
       "2                                                0  \n",
       "3                                                0  \n",
       "4                                                0  \n",
       "...                                            ...  \n",
       "11334                                            0  \n",
       "11335                                            0  \n",
       "11336                                            0  \n",
       "11337                                            0  \n",
       "11338                                            0  \n",
       "\n",
       "[11339 rows x 30 columns]"
      ]
     },
     "execution_count": 78,
     "metadata": {},
     "output_type": "execute_result"
    }
   ],
   "source": [
    "df_listing.select_dtypes(exclude=['object'])"
   ]
  },
  {
   "cell_type": "code",
   "execution_count": 79,
   "id": "9c43067e",
   "metadata": {},
   "outputs": [],
   "source": [
    "# We drop the \"id\" column.\n",
    "df_listing.drop('id', axis=1, inplace=True)"
   ]
  },
  {
   "cell_type": "code",
   "execution_count": 80,
   "id": "37b030f6",
   "metadata": {},
   "outputs": [
    {
     "data": {
      "text/plain": [
       "(11339, 41)"
      ]
     },
     "execution_count": 80,
     "metadata": {},
     "output_type": "execute_result"
    }
   ],
   "source": [
    "df_listing.shape"
   ]
  },
  {
   "cell_type": "code",
   "execution_count": 613,
   "id": "e7ce718b",
   "metadata": {},
   "outputs": [],
   "source": [
    "def clean_fit_linear_mod(df, response_col, test_size=.3, rand_state=42):\n",
    "    '''\n",
    "    INPUT:\n",
    "    df - a dataframe holding all the variables of interest\n",
    "    response_col - a string holding the name of the column \n",
    "    test_size - a float between [0,1] about what proportion of data should be in the test dataset\n",
    "    rand_state - an int that is provided as the random state for splitting the data into training and test \n",
    "    \n",
    "    OUTPUT:\n",
    "    test_score - float - r2 score on the test data\n",
    "    train_score - float - r2 score on the test data\n",
    "    lm_model - model object from sklearn\n",
    "    X_train, X_test, y_train, y_test - output from sklearn train test split used for optimal model\n",
    "    '''\n",
    "    \n",
    "    #Drop the rows with missing response values\n",
    "    df  = df.dropna(subset=[response_col], axis=0)\n",
    "\n",
    "    #Drop columns with all NaN values\n",
    "    df = df.dropna(how='all', axis=1)\n",
    "\n",
    "\n",
    "    #Split into explanatory and response variables\n",
    "    X = df.drop(response_col, axis=1)\n",
    "    y = df[response_col]\n",
    "    \n",
    "    # Fill numeric columns with the mean\n",
    "    num_vars = X.select_dtypes(include=['float', 'int']).columns\n",
    "    for col in num_vars:\n",
    "        X[col].fillna((X[col].mean()), inplace=True)\n",
    "    \n",
    "    \n",
    "    # Create dummy columns for all the categorical variables in X, drop the original columns\n",
    "    cat_cols = X.select_dtypes(include=['object']).columns\n",
    "    \n",
    "    for col in cat_cols:\n",
    "        try:\n",
    "            X = pd.concat([X.drop(col, axis=1), pd.get_dummies(X[col], prefix=col, drop_first=True)], axis=1)\n",
    "        except:\n",
    "            continue\n",
    "\n",
    "    #Split into train and test\n",
    "    X_train, X_test, y_train, y_test = train_test_split(X, y, test_size=test_size, random_state=rand_state)\n",
    "    \n",
    "    s = StandardScaler() # Instantiate\n",
    "    X_train_s = s.fit_transform(X_train)\n",
    "\n",
    "    lm_model = LinearRegression() # Instantiate\n",
    "    lm_model.fit(X_train_s, y_train) #Fit\n",
    "\n",
    "    #Predict using your model\n",
    "    X_test_s = s.transform(X_test)\n",
    "    y_test_preds = lm_model.predict(X_test_s)\n",
    "    y_train_preds = lm_model.predict(X_train_s)\n",
    "\n",
    "    #Score using your model\n",
    "    test_score = r2_score(y_test, y_test_preds)\n",
    "    train_score = r2_score(y_train, y_train_preds)\n",
    "\n",
    "    return test_score, train_score, lm_model, X_train, X_test, y_train, y_test\n",
    "\n",
    "\n",
    "#Test your function with the above dataset\n",
    "test_score, train_score, lm_model, X_train, X_test, y_train, y_test = clean_fit_linear_mod(df, 'price')"
   ]
  },
  {
   "cell_type": "code",
   "execution_count": 202,
   "id": "727cb648",
   "metadata": {},
   "outputs": [],
   "source": [
    "#Drop the rows with missing response values\n",
    "df  = df_listing.dropna(subset=['price'], axis=0)\n",
    "\n",
    "#Drop columns with all NaN values\n",
    "df = df_listing.dropna(how='all', axis=1)\n",
    "\n",
    "\n",
    "#Split into explanatory and response variables\n",
    "X = df_listing.drop('price', axis=1)\n",
    "y = df_listing['price']\n",
    "    \n",
    "# Fill numeric columns with the mean\n",
    "num_vars = X.select_dtypes(include=['float', 'int']).columns\n",
    "for col in num_vars:\n",
    "    X[col].fillna((X[col].mean()), inplace=True)\n",
    "    \n",
    "    \n",
    "# Create dummy columns for all the categorical variables in X, drop the original columns\n",
    "cat_cols = X.select_dtypes(include=['object']).columns\n",
    "    \n",
    "for col in cat_cols:\n",
    "    try:\n",
    "        X = pd.concat([X.drop(col, axis=1), pd.get_dummies(X[col], prefix=col, drop_first=True)], axis=1)\n",
    "    except:\n",
    "        continue\n",
    "\n",
    "#Split into train and test\n",
    "X_train, X_test, y_train, y_test = train_test_split(X, y, test_size=.3, random_state=18)\n",
    "    \n"
   ]
  },
  {
   "cell_type": "code",
   "execution_count": 203,
   "id": "37888d8e",
   "metadata": {},
   "outputs": [],
   "source": [
    "rf = RandomForestRegressor(n_estimators = 200, max_features = 'sqrt', \n",
    "                           max_depth = 20, random_state = 18).fit(X_train, y_train)\n"
   ]
  },
  {
   "cell_type": "code",
   "execution_count": 204,
   "id": "f51daee4",
   "metadata": {},
   "outputs": [],
   "source": [
    "train_prediction = rf.predict(X_train)"
   ]
  },
  {
   "cell_type": "code",
   "execution_count": 205,
   "id": "b5d579e1",
   "metadata": {},
   "outputs": [],
   "source": [
    "test_prediction = rf.predict(X_test)"
   ]
  },
  {
   "cell_type": "code",
   "execution_count": 206,
   "id": "46b86841",
   "metadata": {
    "scrolled": true
   },
   "outputs": [
    {
     "data": {
      "text/plain": [
       "0.9767725587924461"
      ]
     },
     "execution_count": 206,
     "metadata": {},
     "output_type": "execute_result"
    }
   ],
   "source": [
    "train_score = r2_score(y_train, train_prediction)\n",
    "train_score"
   ]
  },
  {
   "cell_type": "code",
   "execution_count": 207,
   "id": "759966d6",
   "metadata": {},
   "outputs": [
    {
     "data": {
      "text/plain": [
       "0.7804796716187358"
      ]
     },
     "execution_count": 207,
     "metadata": {},
     "output_type": "execute_result"
    }
   ],
   "source": [
    "test_score = r2_score(y_test, test_prediction)\n",
    "test_score"
   ]
  },
  {
   "cell_type": "code",
   "execution_count": 208,
   "id": "20b637bd",
   "metadata": {},
   "outputs": [
    {
     "name": "stdout",
     "output_type": "stream",
     "text": [
      "The rsquared on the training data was 0.9767725587924461.  The rsquared on the test data was 0.7804796716187358.\n"
     ]
    }
   ],
   "source": [
    "#Print training and testing score\n",
    "print(\"The rsquared on the training data was {}.  The rsquared on the test data was {}.\".format(train_score, test_score))"
   ]
  },
  {
   "cell_type": "markdown",
   "id": "6a834774",
   "metadata": {},
   "source": [
    "#### Comments:\n",
    "\n",
    "The code below to get feature importances is gotten from https://towardsdatascience.com/random-forest-in-python-24d0893d51c0\n"
   ]
  },
  {
   "cell_type": "code",
   "execution_count": 212,
   "id": "24d777fb",
   "metadata": {},
   "outputs": [
    {
     "name": "stdout",
     "output_type": "stream",
     "text": [
      "Variable: calculated_host_listings_count Importance: 0.14\n",
      "Variable: host_total_listings_count Importance: 0.12\n",
      "Variable: calculated_host_listings_count_entire_homes Importance: 0.12\n",
      "Variable: host_listings_count  Importance: 0.1\n",
      "Variable: host_verifications   Importance: 0.04\n",
      "Variable: bathrooms            Importance: 0.03\n",
      "Variable: availability_90      Importance: 0.03\n",
      "Variable: cancellation_policy_moderate Importance: 0.03\n",
      "Variable: accommodates         Importance: 0.02\n",
      "Variable: bedrooms             Importance: 0.02\n",
      "Variable: amenities            Importance: 0.02\n",
      "Variable: extra_people         Importance: 0.02\n",
      "Variable: minimum_minimum_nights Importance: 0.02\n",
      "Variable: minimum_nights_avg_ntm Importance: 0.02\n",
      "Variable: availability_60      Importance: 0.02\n",
      "Variable: availability_365     Importance: 0.02\n",
      "Variable: number_of_reviews    Importance: 0.02\n",
      "Variable: cancellation_policy_strict_14_with_grace_period Importance: 0.02\n",
      "Variable: beds                 Importance: 0.01\n",
      "Variable: guests_included      Importance: 0.01\n",
      "Variable: minimum_nights       Importance: 0.01\n",
      "Variable: maximum_nights       Importance: 0.01\n",
      "Variable: maximum_minimum_nights Importance: 0.01\n",
      "Variable: minimum_maximum_nights Importance: 0.01\n",
      "Variable: maximum_maximum_nights Importance: 0.01\n",
      "Variable: maximum_nights_avg_ntm Importance: 0.01\n",
      "Variable: availability_30      Importance: 0.01\n",
      "Variable: number_of_reviews_ltm Importance: 0.01\n",
      "Variable: host_since_16-17     Importance: 0.01\n",
      "Variable: host_since_18-19     Importance: 0.01\n",
      "Variable: host_is_superhost_t  Importance: 0.01\n",
      "Variable: host_identity_verified_t Importance: 0.01\n",
      "Variable: cancellation_policy_luxury_moderate Importance: 0.01\n",
      "Variable: calculated_host_listings_count_private_rooms Importance: 0.0\n",
      "Variable: calculated_host_listings_count_shared_rooms Importance: 0.0\n",
      "Variable: host_since_10-11     Importance: 0.0\n",
      "Variable: host_since_12-13     Importance: 0.0\n",
      "Variable: host_since_14-15     Importance: 0.0\n",
      "Variable: host_has_profile_pic_t Importance: 0.0\n",
      "Variable: is_location_exact_t  Importance: 0.0\n",
      "Variable: property_type_Bungalow Importance: 0.0\n",
      "Variable: property_type_Condominium Importance: 0.0\n",
      "Variable: property_type_Guest suite Importance: 0.0\n",
      "Variable: property_type_Hotel  Importance: 0.0\n",
      "Variable: property_type_House  Importance: 0.0\n",
      "Variable: property_type_Others Importance: 0.0\n",
      "Variable: room_type_Hotel room Importance: 0.0\n",
      "Variable: room_type_Private room Importance: 0.0\n",
      "Variable: room_type_Shared room Importance: 0.0\n",
      "Variable: bed_type_Couch       Importance: 0.0\n",
      "Variable: bed_type_Futon       Importance: 0.0\n",
      "Variable: bed_type_Pull-out Sofa Importance: 0.0\n",
      "Variable: bed_type_Real Bed    Importance: 0.0\n",
      "Variable: instant_bookable_t   Importance: 0.0\n",
      "Variable: cancellation_policy_strict Importance: 0.0\n",
      "Variable: cancellation_policy_super_strict_30 Importance: 0.0\n",
      "Variable: cancellation_policy_super_strict_60 Importance: 0.0\n",
      "Variable: require_guest_profile_picture_t Importance: 0.0\n",
      "Variable: require_guest_phone_verification_t Importance: 0.0\n"
     ]
    }
   ],
   "source": [
    "    \n",
    "# get feature list\n",
    "feature_list = list(X.columns)\n",
    "# Get numerical feature importances\n",
    "importances = list(rf.feature_importances_)\n",
    "# List of tuples with variable and importance\n",
    "feature_importances = [(feature, round(importance, 2)) for feature, importance in zip(feature_list, importances)]\n",
    "# Sort the feature importances by most important first\n",
    "feature_importances = sorted(feature_importances, key = lambda x: x[1], reverse = True)\n",
    "# Print out the feature and importances \n",
    "[print('Variable: {:20} Importance: {}'.format(*pair)) for pair in feature_importances];"
   ]
  },
  {
   "cell_type": "code",
   "execution_count": null,
   "id": "039073f4",
   "metadata": {},
   "outputs": [],
   "source": []
  }
 ],
 "metadata": {
  "kernelspec": {
   "display_name": "Python 3 (ipykernel)",
   "language": "python",
   "name": "python3"
  },
  "language_info": {
   "codemirror_mode": {
    "name": "ipython",
    "version": 3
   },
   "file_extension": ".py",
   "mimetype": "text/x-python",
   "name": "python",
   "nbconvert_exporter": "python",
   "pygments_lexer": "ipython3",
   "version": "3.7.11"
  }
 },
 "nbformat": 4,
 "nbformat_minor": 5
}
